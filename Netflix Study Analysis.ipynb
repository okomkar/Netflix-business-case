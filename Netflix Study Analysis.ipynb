{
 "cells": [
  {
   "cell_type": "markdown",
   "id": "b3311c41",
   "metadata": {},
   "source": [
    "Netflix is one of the most popular media and video streaming platforms. They have over 10000 movies or tv shows available on their platform, as of mid-2021, they have over 222M Subscribers globally. This tabular dataset consists of listings of all the movies and tv shows available on Netflix, along with details such as - cast, directors, ratings, release year, duration, etc."
   ]
  },
  {
   "cell_type": "markdown",
   "id": "af27eb35",
   "metadata": {},
   "source": [
    "Analyze the data and generate insights that could help Netflix ijn deciding which type of shows/movies to produce and how they can grow the business in different countries"
   ]
  },
  {
   "cell_type": "code",
   "execution_count": 2,
   "id": "43ea18ae",
   "metadata": {},
   "outputs": [],
   "source": [
    "import pandas as pd\n",
    "import numpy as np\n",
    "import seaborn as sns\n",
    "import matplotlib.pyplot as plt"
   ]
  },
  {
   "cell_type": "code",
   "execution_count": 3,
   "id": "8cf60c65",
   "metadata": {},
   "outputs": [],
   "source": [
    "df=pd.read_csv(\"/Users/aayus/OneDrive/Desktop/netflix.csv\")"
   ]
  },
  {
   "cell_type": "markdown",
   "id": "d21f72d1",
   "metadata": {},
   "source": [
    "\n",
    "#### Observations on the shape of data, data types of all the attributes, conversion of categorical attributes to 'category' (If required), missing value detection, statistical summary"
   ]
  },
  {
   "cell_type": "code",
   "execution_count": 4,
   "id": "59c57b47",
   "metadata": {},
   "outputs": [],
   "source": [
    "# Filtering  Data Column wise so that each row has one director,one genre,one actor, one country\n",
    "\n",
    "# 1. Separting Casts in each column\n",
    "constraint2=df[\"cast\"].apply(lambda x: str(x).split(', ')).tolist()\n",
    "df_new2=pd.DataFrame(constraint2,index=df['title'])\n",
    "df_new2=df_new2.stack()\n",
    "df_new2=pd.DataFrame(df_new2.reset_index())\n",
    "df_new2.rename(columns={0:'Actors'},inplace=True)\n",
    "df_new2.drop(['level_1'],axis=1,inplace=True)\n",
    "df_new2.head(20)\n",
    "\n",
    "# 2.Separting Country in each column\n",
    "constraint3=df[\"country\"].apply(lambda x:str(x).split(', ')).tolist()\n",
    "df_new3=pd.DataFrame(constraint3,index=df[\"title\"])\n",
    "df_new3=df_new3.stack()\n",
    "df_new3=pd.DataFrame(df_new3.reset_index())\n",
    "df_new3.rename(columns={0:\"country\"},inplace=True)\n",
    "df_new3.drop(columns=\"level_1\",axis=1,inplace=True)\n",
    "\n",
    "# 3. Separting Genres in each column\n",
    "constraint4=df[\"listed_in\"].apply(lambda x:str(x).split(', ')).tolist()\n",
    "df_new4=pd.DataFrame(constraint4,index=df[\"title\"])\n",
    "df_new4=df_new4.stack()\n",
    "df_new4=pd.DataFrame(df_new4.reset_index())\n",
    "df_new4.rename(columns={0:\"Genre\"},inplace=True)\n",
    "df_new4.drop(columns=\"level_1\",axis=1,inplace=True)\n",
    "\n",
    "# 5. Separting Directors in each column\n",
    "constraint5=df[\"director\"].apply(lambda x:str(x).split(', ')).tolist()\n",
    "df_new5=pd.DataFrame(constraint5,index=df[\"title\"])\n",
    "df_new5=df_new5.stack()\n",
    "df_new5=pd.DataFrame(df_new5.reset_index())\n",
    "df_new5.rename(columns={0:\"director\"},inplace=True)\n",
    "df_new5.drop(columns=\"level_1\",axis=1,inplace=True)\n",
    "\n",
    "#merging actor and country\n",
    "df1=pd.merge(df_new2,df_new3,on=\"title\",how=\"inner\")\n",
    "#merging df1 and genre\n",
    "df2=pd.merge(df1,df_new4,on=\"title\",how=\"inner\")\n",
    "#merging df2 and director\n",
    "df3=pd.merge(df2,df_new5,on=\"title\",how=\"inner\")\n",
    "\n",
    "# Replace NAN values\n",
    "df3[\"director\"].replace([\"nan\"],[\"UnKnown Director\"],inplace=True)\n",
    "df3[\"Actors\"].replace([\"nan\"],[\"Unknown Actor\"],inplace=True)\n",
    "df3[\"country\"].replace([\"nan\"],[np.nan],inplace=True)\n",
    "\n",
    "# JOining above merged data with original data i.e df\n",
    "df_final=df3.merge(df[[\"title\",\"show_id\",\"type\",\"date_added\",\"release_year\",\"rating\",\"duration\"]],on=\"title\",how=\"left\")\n",
    "\n",
    "# making new column Month i,e extracting month from Date_added column\n",
    "df_final[\"month\"]=df_final[\"date_added\"].apply(lambda x:str(x).split(','))\n",
    "df_final[\"month\"]=df_final[\"month\"].str[-2]\n",
    "\n"
   ]
  },
  {
   "cell_type": "code",
   "execution_count": 5,
   "id": "b22a17e7",
   "metadata": {},
   "outputs": [
    {
     "name": "stderr",
     "output_type": "stream",
     "text": [
      "C:\\Users\\aayus\\AppData\\Local\\Temp\\ipykernel_12972\\1102067653.py:15: SettingWithCopyWarning: \n",
      "A value is trying to be set on a copy of a slice from a DataFrame\n",
      "\n",
      "See the caveats in the documentation: https://pandas.pydata.org/pandas-docs/stable/user_guide/indexing.html#returning-a-view-versus-a-copy\n",
      "  df_final_season.drop(columns=[\"new\"],inplace=True)\n",
      "C:\\Users\\aayus\\AppData\\Local\\Temp\\ipykernel_12972\\1102067653.py:16: SettingWithCopyWarning: \n",
      "A value is trying to be set on a copy of a slice from a DataFrame\n",
      "\n",
      "See the caveats in the documentation: https://pandas.pydata.org/pandas-docs/stable/user_guide/indexing.html#returning-a-view-versus-a-copy\n",
      "  df_final_movies.drop(columns=[\"new\"],inplace=True)\n"
     ]
    }
   ],
   "source": [
    "# now Separting above filtered data in two types i.e MOVIES & TV-SHOWS\n",
    "def myfunc(data):\n",
    "    if data== \"Movie\":\n",
    "        return 1\n",
    "    else:\n",
    "        return 0\n",
    "\n",
    "df_final[\"new\"]=df_final[\"type\"].apply(myfunc)\n",
    "# MOVIES\n",
    "df_final_movies=df_final[df_final[\"new\"]==1]\n",
    "# TV-SHOWS\n",
    "df_final_season=df_final[df_final[\"new\"]==0]    \n",
    "\n",
    "# Dropping column new from movies data and TV-SHOW data\n",
    "df_final_season.drop(columns=[\"new\"],inplace=True)\n",
    "df_final_movies.drop(columns=[\"new\"],inplace=True)"
   ]
  },
  {
   "cell_type": "code",
   "execution_count": 6,
   "id": "1b74a744",
   "metadata": {},
   "outputs": [],
   "source": [
    "# droping  show_id and date_added column from both filtered movies and tv-shows\n",
    "df_final_movies=df_final_movies.drop(columns=[\"show_id\",\"date_added\"])\n",
    "df_final_season=df_final_season.drop(columns=[\"show_id\",\"date_added\"])"
   ]
  },
  {
   "cell_type": "code",
   "execution_count": 86,
   "id": "9b32873a",
   "metadata": {},
   "outputs": [
    {
     "data": {
      "text/html": [
       "<div>\n",
       "<style scoped>\n",
       "    .dataframe tbody tr th:only-of-type {\n",
       "        vertical-align: middle;\n",
       "    }\n",
       "\n",
       "    .dataframe tbody tr th {\n",
       "        vertical-align: top;\n",
       "    }\n",
       "\n",
       "    .dataframe thead th {\n",
       "        text-align: right;\n",
       "    }\n",
       "</style>\n",
       "<table border=\"1\" class=\"dataframe\">\n",
       "  <thead>\n",
       "    <tr style=\"text-align: right;\">\n",
       "      <th></th>\n",
       "      <th>title</th>\n",
       "      <th>Actors</th>\n",
       "      <th>country</th>\n",
       "      <th>Genre</th>\n",
       "      <th>director</th>\n",
       "      <th>type</th>\n",
       "      <th>release_year</th>\n",
       "      <th>rating</th>\n",
       "      <th>duration</th>\n",
       "      <th>month</th>\n",
       "    </tr>\n",
       "  </thead>\n",
       "  <tbody>\n",
       "    <tr>\n",
       "      <th>0</th>\n",
       "      <td>Dick Johnson Is Dead</td>\n",
       "      <td>Unknown Actor</td>\n",
       "      <td>United States</td>\n",
       "      <td>Documentaries</td>\n",
       "      <td>Kirsten Johnson</td>\n",
       "      <td>Movie</td>\n",
       "      <td>2020</td>\n",
       "      <td>PG-13</td>\n",
       "      <td>90 min</td>\n",
       "      <td>September 25</td>\n",
       "    </tr>\n",
       "    <tr>\n",
       "      <th>159</th>\n",
       "      <td>My Little Pony: A New Generation</td>\n",
       "      <td>Vanessa Hudgens</td>\n",
       "      <td>NaN</td>\n",
       "      <td>Children &amp; Family Movies</td>\n",
       "      <td>Robert Cullen</td>\n",
       "      <td>Movie</td>\n",
       "      <td>2021</td>\n",
       "      <td>PG</td>\n",
       "      <td>91 min</td>\n",
       "      <td>September 24</td>\n",
       "    </tr>\n",
       "    <tr>\n",
       "      <th>160</th>\n",
       "      <td>My Little Pony: A New Generation</td>\n",
       "      <td>Vanessa Hudgens</td>\n",
       "      <td>NaN</td>\n",
       "      <td>Children &amp; Family Movies</td>\n",
       "      <td>José Luis Ucha</td>\n",
       "      <td>Movie</td>\n",
       "      <td>2021</td>\n",
       "      <td>PG</td>\n",
       "      <td>91 min</td>\n",
       "      <td>September 24</td>\n",
       "    </tr>\n",
       "    <tr>\n",
       "      <th>161</th>\n",
       "      <td>My Little Pony: A New Generation</td>\n",
       "      <td>Kimiko Glenn</td>\n",
       "      <td>NaN</td>\n",
       "      <td>Children &amp; Family Movies</td>\n",
       "      <td>Robert Cullen</td>\n",
       "      <td>Movie</td>\n",
       "      <td>2021</td>\n",
       "      <td>PG</td>\n",
       "      <td>91 min</td>\n",
       "      <td>September 24</td>\n",
       "    </tr>\n",
       "    <tr>\n",
       "      <th>162</th>\n",
       "      <td>My Little Pony: A New Generation</td>\n",
       "      <td>Kimiko Glenn</td>\n",
       "      <td>NaN</td>\n",
       "      <td>Children &amp; Family Movies</td>\n",
       "      <td>José Luis Ucha</td>\n",
       "      <td>Movie</td>\n",
       "      <td>2021</td>\n",
       "      <td>PG</td>\n",
       "      <td>91 min</td>\n",
       "      <td>September 24</td>\n",
       "    </tr>\n",
       "    <tr>\n",
       "      <th>...</th>\n",
       "      <td>...</td>\n",
       "      <td>...</td>\n",
       "      <td>...</td>\n",
       "      <td>...</td>\n",
       "      <td>...</td>\n",
       "      <td>...</td>\n",
       "      <td>...</td>\n",
       "      <td>...</td>\n",
       "      <td>...</td>\n",
       "      <td>...</td>\n",
       "    </tr>\n",
       "    <tr>\n",
       "      <th>201986</th>\n",
       "      <td>Zubaan</td>\n",
       "      <td>Anita Shabdish</td>\n",
       "      <td>India</td>\n",
       "      <td>International Movies</td>\n",
       "      <td>Mozez Singh</td>\n",
       "      <td>Movie</td>\n",
       "      <td>2015</td>\n",
       "      <td>TV-14</td>\n",
       "      <td>111 min</td>\n",
       "      <td>March 2</td>\n",
       "    </tr>\n",
       "    <tr>\n",
       "      <th>201987</th>\n",
       "      <td>Zubaan</td>\n",
       "      <td>Anita Shabdish</td>\n",
       "      <td>India</td>\n",
       "      <td>Music &amp; Musicals</td>\n",
       "      <td>Mozez Singh</td>\n",
       "      <td>Movie</td>\n",
       "      <td>2015</td>\n",
       "      <td>TV-14</td>\n",
       "      <td>111 min</td>\n",
       "      <td>March 2</td>\n",
       "    </tr>\n",
       "    <tr>\n",
       "      <th>201988</th>\n",
       "      <td>Zubaan</td>\n",
       "      <td>Chittaranjan Tripathy</td>\n",
       "      <td>India</td>\n",
       "      <td>Dramas</td>\n",
       "      <td>Mozez Singh</td>\n",
       "      <td>Movie</td>\n",
       "      <td>2015</td>\n",
       "      <td>TV-14</td>\n",
       "      <td>111 min</td>\n",
       "      <td>March 2</td>\n",
       "    </tr>\n",
       "    <tr>\n",
       "      <th>201989</th>\n",
       "      <td>Zubaan</td>\n",
       "      <td>Chittaranjan Tripathy</td>\n",
       "      <td>India</td>\n",
       "      <td>International Movies</td>\n",
       "      <td>Mozez Singh</td>\n",
       "      <td>Movie</td>\n",
       "      <td>2015</td>\n",
       "      <td>TV-14</td>\n",
       "      <td>111 min</td>\n",
       "      <td>March 2</td>\n",
       "    </tr>\n",
       "    <tr>\n",
       "      <th>201990</th>\n",
       "      <td>Zubaan</td>\n",
       "      <td>Chittaranjan Tripathy</td>\n",
       "      <td>India</td>\n",
       "      <td>Music &amp; Musicals</td>\n",
       "      <td>Mozez Singh</td>\n",
       "      <td>Movie</td>\n",
       "      <td>2015</td>\n",
       "      <td>TV-14</td>\n",
       "      <td>111 min</td>\n",
       "      <td>March 2</td>\n",
       "    </tr>\n",
       "  </tbody>\n",
       "</table>\n",
       "<p>145843 rows × 10 columns</p>\n",
       "</div>"
      ],
      "text/plain": [
       "                                   title                 Actors  \\\n",
       "0                   Dick Johnson Is Dead          Unknown Actor   \n",
       "159     My Little Pony: A New Generation        Vanessa Hudgens   \n",
       "160     My Little Pony: A New Generation        Vanessa Hudgens   \n",
       "161     My Little Pony: A New Generation           Kimiko Glenn   \n",
       "162     My Little Pony: A New Generation           Kimiko Glenn   \n",
       "...                                  ...                    ...   \n",
       "201986                            Zubaan         Anita Shabdish   \n",
       "201987                            Zubaan         Anita Shabdish   \n",
       "201988                            Zubaan  Chittaranjan Tripathy   \n",
       "201989                            Zubaan  Chittaranjan Tripathy   \n",
       "201990                            Zubaan  Chittaranjan Tripathy   \n",
       "\n",
       "              country                     Genre         director   type  \\\n",
       "0       United States             Documentaries  Kirsten Johnson  Movie   \n",
       "159               NaN  Children & Family Movies    Robert Cullen  Movie   \n",
       "160               NaN  Children & Family Movies   José Luis Ucha  Movie   \n",
       "161               NaN  Children & Family Movies    Robert Cullen  Movie   \n",
       "162               NaN  Children & Family Movies   José Luis Ucha  Movie   \n",
       "...               ...                       ...              ...    ...   \n",
       "201986          India      International Movies      Mozez Singh  Movie   \n",
       "201987          India          Music & Musicals      Mozez Singh  Movie   \n",
       "201988          India                    Dramas      Mozez Singh  Movie   \n",
       "201989          India      International Movies      Mozez Singh  Movie   \n",
       "201990          India          Music & Musicals      Mozez Singh  Movie   \n",
       "\n",
       "        release_year rating duration         month  \n",
       "0               2020  PG-13   90 min  September 25  \n",
       "159             2021     PG   91 min  September 24  \n",
       "160             2021     PG   91 min  September 24  \n",
       "161             2021     PG   91 min  September 24  \n",
       "162             2021     PG   91 min  September 24  \n",
       "...              ...    ...      ...           ...  \n",
       "201986          2015  TV-14  111 min       March 2  \n",
       "201987          2015  TV-14  111 min       March 2  \n",
       "201988          2015  TV-14  111 min       March 2  \n",
       "201989          2015  TV-14  111 min       March 2  \n",
       "201990          2015  TV-14  111 min       March 2  \n",
       "\n",
       "[145843 rows x 10 columns]"
      ]
     },
     "execution_count": 86,
     "metadata": {},
     "output_type": "execute_result"
    }
   ],
   "source": [
    "df_final_movies"
   ]
  },
  {
   "cell_type": "code",
   "execution_count": 87,
   "id": "ed9930c0",
   "metadata": {},
   "outputs": [
    {
     "data": {
      "text/html": [
       "<div>\n",
       "<style scoped>\n",
       "    .dataframe tbody tr th:only-of-type {\n",
       "        vertical-align: middle;\n",
       "    }\n",
       "\n",
       "    .dataframe tbody tr th {\n",
       "        vertical-align: top;\n",
       "    }\n",
       "\n",
       "    .dataframe thead th {\n",
       "        text-align: right;\n",
       "    }\n",
       "</style>\n",
       "<table border=\"1\" class=\"dataframe\">\n",
       "  <thead>\n",
       "    <tr style=\"text-align: right;\">\n",
       "      <th></th>\n",
       "      <th>title</th>\n",
       "      <th>Actors</th>\n",
       "      <th>country</th>\n",
       "      <th>Genre</th>\n",
       "      <th>director</th>\n",
       "      <th>type</th>\n",
       "      <th>release_year</th>\n",
       "      <th>rating</th>\n",
       "      <th>duration</th>\n",
       "      <th>month</th>\n",
       "    </tr>\n",
       "  </thead>\n",
       "  <tbody>\n",
       "    <tr>\n",
       "      <th>1</th>\n",
       "      <td>Blood &amp; Water</td>\n",
       "      <td>Ama Qamata</td>\n",
       "      <td>South Africa</td>\n",
       "      <td>International TV Shows</td>\n",
       "      <td>UnKnown Director</td>\n",
       "      <td>TV Show</td>\n",
       "      <td>2021</td>\n",
       "      <td>TV-MA</td>\n",
       "      <td>2 Seasons</td>\n",
       "      <td>September 24</td>\n",
       "    </tr>\n",
       "    <tr>\n",
       "      <th>2</th>\n",
       "      <td>Blood &amp; Water</td>\n",
       "      <td>Ama Qamata</td>\n",
       "      <td>South Africa</td>\n",
       "      <td>TV Dramas</td>\n",
       "      <td>UnKnown Director</td>\n",
       "      <td>TV Show</td>\n",
       "      <td>2021</td>\n",
       "      <td>TV-MA</td>\n",
       "      <td>2 Seasons</td>\n",
       "      <td>September 24</td>\n",
       "    </tr>\n",
       "    <tr>\n",
       "      <th>3</th>\n",
       "      <td>Blood &amp; Water</td>\n",
       "      <td>Ama Qamata</td>\n",
       "      <td>South Africa</td>\n",
       "      <td>TV Mysteries</td>\n",
       "      <td>UnKnown Director</td>\n",
       "      <td>TV Show</td>\n",
       "      <td>2021</td>\n",
       "      <td>TV-MA</td>\n",
       "      <td>2 Seasons</td>\n",
       "      <td>September 24</td>\n",
       "    </tr>\n",
       "    <tr>\n",
       "      <th>4</th>\n",
       "      <td>Blood &amp; Water</td>\n",
       "      <td>Khosi Ngema</td>\n",
       "      <td>South Africa</td>\n",
       "      <td>International TV Shows</td>\n",
       "      <td>UnKnown Director</td>\n",
       "      <td>TV Show</td>\n",
       "      <td>2021</td>\n",
       "      <td>TV-MA</td>\n",
       "      <td>2 Seasons</td>\n",
       "      <td>September 24</td>\n",
       "    </tr>\n",
       "    <tr>\n",
       "      <th>5</th>\n",
       "      <td>Blood &amp; Water</td>\n",
       "      <td>Khosi Ngema</td>\n",
       "      <td>South Africa</td>\n",
       "      <td>TV Dramas</td>\n",
       "      <td>UnKnown Director</td>\n",
       "      <td>TV Show</td>\n",
       "      <td>2021</td>\n",
       "      <td>TV-MA</td>\n",
       "      <td>2 Seasons</td>\n",
       "      <td>September 24</td>\n",
       "    </tr>\n",
       "    <tr>\n",
       "      <th>...</th>\n",
       "      <td>...</td>\n",
       "      <td>...</td>\n",
       "      <td>...</td>\n",
       "      <td>...</td>\n",
       "      <td>...</td>\n",
       "      <td>...</td>\n",
       "      <td>...</td>\n",
       "      <td>...</td>\n",
       "      <td>...</td>\n",
       "      <td>...</td>\n",
       "    </tr>\n",
       "    <tr>\n",
       "      <th>201864</th>\n",
       "      <td>Zindagi Gulzar Hai</td>\n",
       "      <td>Hina Khawaja Bayat</td>\n",
       "      <td>Pakistan</td>\n",
       "      <td>Romantic TV Shows</td>\n",
       "      <td>UnKnown Director</td>\n",
       "      <td>TV Show</td>\n",
       "      <td>2012</td>\n",
       "      <td>TV-PG</td>\n",
       "      <td>1 Season</td>\n",
       "      <td>December 15</td>\n",
       "    </tr>\n",
       "    <tr>\n",
       "      <th>201865</th>\n",
       "      <td>Zindagi Gulzar Hai</td>\n",
       "      <td>Hina Khawaja Bayat</td>\n",
       "      <td>Pakistan</td>\n",
       "      <td>TV Dramas</td>\n",
       "      <td>UnKnown Director</td>\n",
       "      <td>TV Show</td>\n",
       "      <td>2012</td>\n",
       "      <td>TV-PG</td>\n",
       "      <td>1 Season</td>\n",
       "      <td>December 15</td>\n",
       "    </tr>\n",
       "    <tr>\n",
       "      <th>201932</th>\n",
       "      <td>Zombie Dumb</td>\n",
       "      <td>Unknown Actor</td>\n",
       "      <td>NaN</td>\n",
       "      <td>Kids' TV</td>\n",
       "      <td>UnKnown Director</td>\n",
       "      <td>TV Show</td>\n",
       "      <td>2018</td>\n",
       "      <td>TV-Y7</td>\n",
       "      <td>2 Seasons</td>\n",
       "      <td>July 1</td>\n",
       "    </tr>\n",
       "    <tr>\n",
       "      <th>201933</th>\n",
       "      <td>Zombie Dumb</td>\n",
       "      <td>Unknown Actor</td>\n",
       "      <td>NaN</td>\n",
       "      <td>Korean TV Shows</td>\n",
       "      <td>UnKnown Director</td>\n",
       "      <td>TV Show</td>\n",
       "      <td>2018</td>\n",
       "      <td>TV-Y7</td>\n",
       "      <td>2 Seasons</td>\n",
       "      <td>July 1</td>\n",
       "    </tr>\n",
       "    <tr>\n",
       "      <th>201934</th>\n",
       "      <td>Zombie Dumb</td>\n",
       "      <td>Unknown Actor</td>\n",
       "      <td>NaN</td>\n",
       "      <td>TV Comedies</td>\n",
       "      <td>UnKnown Director</td>\n",
       "      <td>TV Show</td>\n",
       "      <td>2018</td>\n",
       "      <td>TV-Y7</td>\n",
       "      <td>2 Seasons</td>\n",
       "      <td>July 1</td>\n",
       "    </tr>\n",
       "  </tbody>\n",
       "</table>\n",
       "<p>56148 rows × 10 columns</p>\n",
       "</div>"
      ],
      "text/plain": [
       "                     title              Actors       country  \\\n",
       "1            Blood & Water          Ama Qamata  South Africa   \n",
       "2            Blood & Water          Ama Qamata  South Africa   \n",
       "3            Blood & Water          Ama Qamata  South Africa   \n",
       "4            Blood & Water         Khosi Ngema  South Africa   \n",
       "5            Blood & Water         Khosi Ngema  South Africa   \n",
       "...                    ...                 ...           ...   \n",
       "201864  Zindagi Gulzar Hai  Hina Khawaja Bayat      Pakistan   \n",
       "201865  Zindagi Gulzar Hai  Hina Khawaja Bayat      Pakistan   \n",
       "201932         Zombie Dumb       Unknown Actor           NaN   \n",
       "201933         Zombie Dumb       Unknown Actor           NaN   \n",
       "201934         Zombie Dumb       Unknown Actor           NaN   \n",
       "\n",
       "                         Genre          director     type  release_year  \\\n",
       "1       International TV Shows  UnKnown Director  TV Show          2021   \n",
       "2                    TV Dramas  UnKnown Director  TV Show          2021   \n",
       "3                 TV Mysteries  UnKnown Director  TV Show          2021   \n",
       "4       International TV Shows  UnKnown Director  TV Show          2021   \n",
       "5                    TV Dramas  UnKnown Director  TV Show          2021   \n",
       "...                        ...               ...      ...           ...   \n",
       "201864       Romantic TV Shows  UnKnown Director  TV Show          2012   \n",
       "201865               TV Dramas  UnKnown Director  TV Show          2012   \n",
       "201932                Kids' TV  UnKnown Director  TV Show          2018   \n",
       "201933         Korean TV Shows  UnKnown Director  TV Show          2018   \n",
       "201934             TV Comedies  UnKnown Director  TV Show          2018   \n",
       "\n",
       "       rating   duration         month  \n",
       "1       TV-MA  2 Seasons  September 24  \n",
       "2       TV-MA  2 Seasons  September 24  \n",
       "3       TV-MA  2 Seasons  September 24  \n",
       "4       TV-MA  2 Seasons  September 24  \n",
       "5       TV-MA  2 Seasons  September 24  \n",
       "...       ...        ...           ...  \n",
       "201864  TV-PG   1 Season   December 15  \n",
       "201865  TV-PG   1 Season   December 15  \n",
       "201932  TV-Y7  2 Seasons        July 1  \n",
       "201933  TV-Y7  2 Seasons        July 1  \n",
       "201934  TV-Y7  2 Seasons        July 1  \n",
       "\n",
       "[56148 rows x 10 columns]"
      ]
     },
     "execution_count": 87,
     "metadata": {},
     "output_type": "execute_result"
    }
   ],
   "source": [
    "df_final_season"
   ]
  },
  {
   "cell_type": "markdown",
   "id": "9c62555f",
   "metadata": {},
   "source": [
    "### Defining Problem Statement and Analysing basic metrics"
   ]
  },
  {
   "cell_type": "markdown",
   "id": "636659e5",
   "metadata": {},
   "source": [
    "PROBLEM STATEMENT :\n",
    "Analyze the data and generate insights that could help Netflix in deciding which type of shows/movies to produce and how they can grow the business in different countries.\n",
    "By seeing the Data of netflix I observed Netflix is one of the most popular media and video streaming platforms.\n",
    "They have over 10000 movies or tv shows available on their platform, as of mid-2021, they have over 222M Subscribers globally.\n",
    "1.How has the number of movies released per year changed over the last 20-30 years?\n",
    "2.Comparison of tv shows vs. movies? \n",
    "3.What is the best time to launch a TV show?\n",
    "4.Analysis of actors/directors of different types of shows/movies.\n",
    "5.Does Netflix has more focus on TV Shows than movies in recent years\n",
    "6.Understanding what content is available in different countries"
   ]
  },
  {
   "cell_type": "code",
   "execution_count": 3,
   "id": "b886d738",
   "metadata": {},
   "outputs": [
    {
     "data": {
      "text/html": [
       "<div>\n",
       "<style scoped>\n",
       "    .dataframe tbody tr th:only-of-type {\n",
       "        vertical-align: middle;\n",
       "    }\n",
       "\n",
       "    .dataframe tbody tr th {\n",
       "        vertical-align: top;\n",
       "    }\n",
       "\n",
       "    .dataframe thead th {\n",
       "        text-align: right;\n",
       "    }\n",
       "</style>\n",
       "<table border=\"1\" class=\"dataframe\">\n",
       "  <thead>\n",
       "    <tr style=\"text-align: right;\">\n",
       "      <th></th>\n",
       "      <th>show_id</th>\n",
       "      <th>type</th>\n",
       "      <th>title</th>\n",
       "      <th>director</th>\n",
       "      <th>cast</th>\n",
       "      <th>country</th>\n",
       "      <th>date_added</th>\n",
       "      <th>release_year</th>\n",
       "      <th>rating</th>\n",
       "      <th>duration</th>\n",
       "      <th>listed_in</th>\n",
       "      <th>description</th>\n",
       "    </tr>\n",
       "  </thead>\n",
       "  <tbody>\n",
       "    <tr>\n",
       "      <th>0</th>\n",
       "      <td>s1</td>\n",
       "      <td>Movie</td>\n",
       "      <td>Dick Johnson Is Dead</td>\n",
       "      <td>Kirsten Johnson</td>\n",
       "      <td>NaN</td>\n",
       "      <td>United States</td>\n",
       "      <td>September 25, 2021</td>\n",
       "      <td>2020</td>\n",
       "      <td>PG-13</td>\n",
       "      <td>90 min</td>\n",
       "      <td>Documentaries</td>\n",
       "      <td>As her father nears the end of his life, filmm...</td>\n",
       "    </tr>\n",
       "    <tr>\n",
       "      <th>1</th>\n",
       "      <td>s2</td>\n",
       "      <td>TV Show</td>\n",
       "      <td>Blood &amp; Water</td>\n",
       "      <td>NaN</td>\n",
       "      <td>Ama Qamata, Khosi Ngema, Gail Mabalane, Thaban...</td>\n",
       "      <td>South Africa</td>\n",
       "      <td>September 24, 2021</td>\n",
       "      <td>2021</td>\n",
       "      <td>TV-MA</td>\n",
       "      <td>2 Seasons</td>\n",
       "      <td>International TV Shows, TV Dramas, TV Mysteries</td>\n",
       "      <td>After crossing paths at a party, a Cape Town t...</td>\n",
       "    </tr>\n",
       "    <tr>\n",
       "      <th>2</th>\n",
       "      <td>s3</td>\n",
       "      <td>TV Show</td>\n",
       "      <td>Ganglands</td>\n",
       "      <td>Julien Leclercq</td>\n",
       "      <td>Sami Bouajila, Tracy Gotoas, Samuel Jouy, Nabi...</td>\n",
       "      <td>NaN</td>\n",
       "      <td>September 24, 2021</td>\n",
       "      <td>2021</td>\n",
       "      <td>TV-MA</td>\n",
       "      <td>1 Season</td>\n",
       "      <td>Crime TV Shows, International TV Shows, TV Act...</td>\n",
       "      <td>To protect his family from a powerful drug lor...</td>\n",
       "    </tr>\n",
       "    <tr>\n",
       "      <th>3</th>\n",
       "      <td>s4</td>\n",
       "      <td>TV Show</td>\n",
       "      <td>Jailbirds New Orleans</td>\n",
       "      <td>NaN</td>\n",
       "      <td>NaN</td>\n",
       "      <td>NaN</td>\n",
       "      <td>September 24, 2021</td>\n",
       "      <td>2021</td>\n",
       "      <td>TV-MA</td>\n",
       "      <td>1 Season</td>\n",
       "      <td>Docuseries, Reality TV</td>\n",
       "      <td>Feuds, flirtations and toilet talk go down amo...</td>\n",
       "    </tr>\n",
       "    <tr>\n",
       "      <th>4</th>\n",
       "      <td>s5</td>\n",
       "      <td>TV Show</td>\n",
       "      <td>Kota Factory</td>\n",
       "      <td>NaN</td>\n",
       "      <td>Mayur More, Jitendra Kumar, Ranjan Raj, Alam K...</td>\n",
       "      <td>India</td>\n",
       "      <td>September 24, 2021</td>\n",
       "      <td>2021</td>\n",
       "      <td>TV-MA</td>\n",
       "      <td>2 Seasons</td>\n",
       "      <td>International TV Shows, Romantic TV Shows, TV ...</td>\n",
       "      <td>In a city of coaching centers known to train I...</td>\n",
       "    </tr>\n",
       "    <tr>\n",
       "      <th>...</th>\n",
       "      <td>...</td>\n",
       "      <td>...</td>\n",
       "      <td>...</td>\n",
       "      <td>...</td>\n",
       "      <td>...</td>\n",
       "      <td>...</td>\n",
       "      <td>...</td>\n",
       "      <td>...</td>\n",
       "      <td>...</td>\n",
       "      <td>...</td>\n",
       "      <td>...</td>\n",
       "      <td>...</td>\n",
       "    </tr>\n",
       "    <tr>\n",
       "      <th>8802</th>\n",
       "      <td>s8803</td>\n",
       "      <td>Movie</td>\n",
       "      <td>Zodiac</td>\n",
       "      <td>David Fincher</td>\n",
       "      <td>Mark Ruffalo, Jake Gyllenhaal, Robert Downey J...</td>\n",
       "      <td>United States</td>\n",
       "      <td>November 20, 2019</td>\n",
       "      <td>2007</td>\n",
       "      <td>R</td>\n",
       "      <td>158 min</td>\n",
       "      <td>Cult Movies, Dramas, Thrillers</td>\n",
       "      <td>A political cartoonist, a crime reporter and a...</td>\n",
       "    </tr>\n",
       "    <tr>\n",
       "      <th>8803</th>\n",
       "      <td>s8804</td>\n",
       "      <td>TV Show</td>\n",
       "      <td>Zombie Dumb</td>\n",
       "      <td>NaN</td>\n",
       "      <td>NaN</td>\n",
       "      <td>NaN</td>\n",
       "      <td>July 1, 2019</td>\n",
       "      <td>2018</td>\n",
       "      <td>TV-Y7</td>\n",
       "      <td>2 Seasons</td>\n",
       "      <td>Kids' TV, Korean TV Shows, TV Comedies</td>\n",
       "      <td>While living alone in a spooky town, a young g...</td>\n",
       "    </tr>\n",
       "    <tr>\n",
       "      <th>8804</th>\n",
       "      <td>s8805</td>\n",
       "      <td>Movie</td>\n",
       "      <td>Zombieland</td>\n",
       "      <td>Ruben Fleischer</td>\n",
       "      <td>Jesse Eisenberg, Woody Harrelson, Emma Stone, ...</td>\n",
       "      <td>United States</td>\n",
       "      <td>November 1, 2019</td>\n",
       "      <td>2009</td>\n",
       "      <td>R</td>\n",
       "      <td>88 min</td>\n",
       "      <td>Comedies, Horror Movies</td>\n",
       "      <td>Looking to survive in a world taken over by zo...</td>\n",
       "    </tr>\n",
       "    <tr>\n",
       "      <th>8805</th>\n",
       "      <td>s8806</td>\n",
       "      <td>Movie</td>\n",
       "      <td>Zoom</td>\n",
       "      <td>Peter Hewitt</td>\n",
       "      <td>Tim Allen, Courteney Cox, Chevy Chase, Kate Ma...</td>\n",
       "      <td>United States</td>\n",
       "      <td>January 11, 2020</td>\n",
       "      <td>2006</td>\n",
       "      <td>PG</td>\n",
       "      <td>88 min</td>\n",
       "      <td>Children &amp; Family Movies, Comedies</td>\n",
       "      <td>Dragged from civilian life, a former superhero...</td>\n",
       "    </tr>\n",
       "    <tr>\n",
       "      <th>8806</th>\n",
       "      <td>s8807</td>\n",
       "      <td>Movie</td>\n",
       "      <td>Zubaan</td>\n",
       "      <td>Mozez Singh</td>\n",
       "      <td>Vicky Kaushal, Sarah-Jane Dias, Raaghav Chanan...</td>\n",
       "      <td>India</td>\n",
       "      <td>March 2, 2019</td>\n",
       "      <td>2015</td>\n",
       "      <td>TV-14</td>\n",
       "      <td>111 min</td>\n",
       "      <td>Dramas, International Movies, Music &amp; Musicals</td>\n",
       "      <td>A scrappy but poor boy worms his way into a ty...</td>\n",
       "    </tr>\n",
       "  </tbody>\n",
       "</table>\n",
       "<p>8807 rows × 12 columns</p>\n",
       "</div>"
      ],
      "text/plain": [
       "     show_id     type                  title         director  \\\n",
       "0         s1    Movie   Dick Johnson Is Dead  Kirsten Johnson   \n",
       "1         s2  TV Show          Blood & Water              NaN   \n",
       "2         s3  TV Show              Ganglands  Julien Leclercq   \n",
       "3         s4  TV Show  Jailbirds New Orleans              NaN   \n",
       "4         s5  TV Show           Kota Factory              NaN   \n",
       "...      ...      ...                    ...              ...   \n",
       "8802   s8803    Movie                 Zodiac    David Fincher   \n",
       "8803   s8804  TV Show            Zombie Dumb              NaN   \n",
       "8804   s8805    Movie             Zombieland  Ruben Fleischer   \n",
       "8805   s8806    Movie                   Zoom     Peter Hewitt   \n",
       "8806   s8807    Movie                 Zubaan      Mozez Singh   \n",
       "\n",
       "                                                   cast        country  \\\n",
       "0                                                   NaN  United States   \n",
       "1     Ama Qamata, Khosi Ngema, Gail Mabalane, Thaban...   South Africa   \n",
       "2     Sami Bouajila, Tracy Gotoas, Samuel Jouy, Nabi...            NaN   \n",
       "3                                                   NaN            NaN   \n",
       "4     Mayur More, Jitendra Kumar, Ranjan Raj, Alam K...          India   \n",
       "...                                                 ...            ...   \n",
       "8802  Mark Ruffalo, Jake Gyllenhaal, Robert Downey J...  United States   \n",
       "8803                                                NaN            NaN   \n",
       "8804  Jesse Eisenberg, Woody Harrelson, Emma Stone, ...  United States   \n",
       "8805  Tim Allen, Courteney Cox, Chevy Chase, Kate Ma...  United States   \n",
       "8806  Vicky Kaushal, Sarah-Jane Dias, Raaghav Chanan...          India   \n",
       "\n",
       "              date_added  release_year rating   duration  \\\n",
       "0     September 25, 2021          2020  PG-13     90 min   \n",
       "1     September 24, 2021          2021  TV-MA  2 Seasons   \n",
       "2     September 24, 2021          2021  TV-MA   1 Season   \n",
       "3     September 24, 2021          2021  TV-MA   1 Season   \n",
       "4     September 24, 2021          2021  TV-MA  2 Seasons   \n",
       "...                  ...           ...    ...        ...   \n",
       "8802   November 20, 2019          2007      R    158 min   \n",
       "8803        July 1, 2019          2018  TV-Y7  2 Seasons   \n",
       "8804    November 1, 2019          2009      R     88 min   \n",
       "8805    January 11, 2020          2006     PG     88 min   \n",
       "8806       March 2, 2019          2015  TV-14    111 min   \n",
       "\n",
       "                                              listed_in  \\\n",
       "0                                         Documentaries   \n",
       "1       International TV Shows, TV Dramas, TV Mysteries   \n",
       "2     Crime TV Shows, International TV Shows, TV Act...   \n",
       "3                                Docuseries, Reality TV   \n",
       "4     International TV Shows, Romantic TV Shows, TV ...   \n",
       "...                                                 ...   \n",
       "8802                     Cult Movies, Dramas, Thrillers   \n",
       "8803             Kids' TV, Korean TV Shows, TV Comedies   \n",
       "8804                            Comedies, Horror Movies   \n",
       "8805                 Children & Family Movies, Comedies   \n",
       "8806     Dramas, International Movies, Music & Musicals   \n",
       "\n",
       "                                            description  \n",
       "0     As her father nears the end of his life, filmm...  \n",
       "1     After crossing paths at a party, a Cape Town t...  \n",
       "2     To protect his family from a powerful drug lor...  \n",
       "3     Feuds, flirtations and toilet talk go down amo...  \n",
       "4     In a city of coaching centers known to train I...  \n",
       "...                                                 ...  \n",
       "8802  A political cartoonist, a crime reporter and a...  \n",
       "8803  While living alone in a spooky town, a young g...  \n",
       "8804  Looking to survive in a world taken over by zo...  \n",
       "8805  Dragged from civilian life, a former superhero...  \n",
       "8806  A scrappy but poor boy worms his way into a ty...  \n",
       "\n",
       "[8807 rows x 12 columns]"
      ]
     },
     "execution_count": 3,
     "metadata": {},
     "output_type": "execute_result"
    }
   ],
   "source": [
    "df"
   ]
  },
  {
   "cell_type": "code",
   "execution_count": 4,
   "id": "503653bc",
   "metadata": {},
   "outputs": [
    {
     "name": "stdout",
     "output_type": "stream",
     "text": [
      "<class 'pandas.core.frame.DataFrame'>\n",
      "RangeIndex: 8807 entries, 0 to 8806\n",
      "Data columns (total 12 columns):\n",
      " #   Column        Non-Null Count  Dtype \n",
      "---  ------        --------------  ----- \n",
      " 0   show_id       8807 non-null   object\n",
      " 1   type          8807 non-null   object\n",
      " 2   title         8807 non-null   object\n",
      " 3   director      6173 non-null   object\n",
      " 4   cast          7982 non-null   object\n",
      " 5   country       7976 non-null   object\n",
      " 6   date_added    8797 non-null   object\n",
      " 7   release_year  8807 non-null   int64 \n",
      " 8   rating        8803 non-null   object\n",
      " 9   duration      8804 non-null   object\n",
      " 10  listed_in     8807 non-null   object\n",
      " 11  description   8807 non-null   object\n",
      "dtypes: int64(1), object(11)\n",
      "memory usage: 825.8+ KB\n"
     ]
    }
   ],
   "source": [
    "df.info()"
   ]
  },
  {
   "cell_type": "code",
   "execution_count": 38,
   "id": "f69cab23",
   "metadata": {},
   "outputs": [
    {
     "data": {
      "text/html": [
       "<div>\n",
       "<style scoped>\n",
       "    .dataframe tbody tr th:only-of-type {\n",
       "        vertical-align: middle;\n",
       "    }\n",
       "\n",
       "    .dataframe tbody tr th {\n",
       "        vertical-align: top;\n",
       "    }\n",
       "\n",
       "    .dataframe thead th {\n",
       "        text-align: right;\n",
       "    }\n",
       "</style>\n",
       "<table border=\"1\" class=\"dataframe\">\n",
       "  <thead>\n",
       "    <tr style=\"text-align: right;\">\n",
       "      <th></th>\n",
       "      <th>title</th>\n",
       "      <th>Actors</th>\n",
       "      <th>country</th>\n",
       "      <th>Genre</th>\n",
       "      <th>director</th>\n",
       "      <th>show_id</th>\n",
       "      <th>type</th>\n",
       "      <th>date_added</th>\n",
       "      <th>release_year</th>\n",
       "      <th>rating</th>\n",
       "      <th>duration</th>\n",
       "      <th>month</th>\n",
       "    </tr>\n",
       "  </thead>\n",
       "  <tbody>\n",
       "    <tr>\n",
       "      <th>0</th>\n",
       "      <td>Dick Johnson Is Dead</td>\n",
       "      <td>Unknown Actor</td>\n",
       "      <td>United States</td>\n",
       "      <td>Documentaries</td>\n",
       "      <td>Kirsten Johnson</td>\n",
       "      <td>s1</td>\n",
       "      <td>Movie</td>\n",
       "      <td>September 25, 2021</td>\n",
       "      <td>2020</td>\n",
       "      <td>PG-13</td>\n",
       "      <td>90 min</td>\n",
       "      <td>September 25</td>\n",
       "    </tr>\n",
       "    <tr>\n",
       "      <th>159</th>\n",
       "      <td>My Little Pony: A New Generation</td>\n",
       "      <td>Vanessa Hudgens</td>\n",
       "      <td>NaN</td>\n",
       "      <td>Children &amp; Family Movies</td>\n",
       "      <td>Robert Cullen</td>\n",
       "      <td>s7</td>\n",
       "      <td>Movie</td>\n",
       "      <td>September 24, 2021</td>\n",
       "      <td>2021</td>\n",
       "      <td>PG</td>\n",
       "      <td>91 min</td>\n",
       "      <td>September 24</td>\n",
       "    </tr>\n",
       "    <tr>\n",
       "      <th>160</th>\n",
       "      <td>My Little Pony: A New Generation</td>\n",
       "      <td>Vanessa Hudgens</td>\n",
       "      <td>NaN</td>\n",
       "      <td>Children &amp; Family Movies</td>\n",
       "      <td>José Luis Ucha</td>\n",
       "      <td>s7</td>\n",
       "      <td>Movie</td>\n",
       "      <td>September 24, 2021</td>\n",
       "      <td>2021</td>\n",
       "      <td>PG</td>\n",
       "      <td>91 min</td>\n",
       "      <td>September 24</td>\n",
       "    </tr>\n",
       "    <tr>\n",
       "      <th>161</th>\n",
       "      <td>My Little Pony: A New Generation</td>\n",
       "      <td>Kimiko Glenn</td>\n",
       "      <td>NaN</td>\n",
       "      <td>Children &amp; Family Movies</td>\n",
       "      <td>Robert Cullen</td>\n",
       "      <td>s7</td>\n",
       "      <td>Movie</td>\n",
       "      <td>September 24, 2021</td>\n",
       "      <td>2021</td>\n",
       "      <td>PG</td>\n",
       "      <td>91 min</td>\n",
       "      <td>September 24</td>\n",
       "    </tr>\n",
       "    <tr>\n",
       "      <th>162</th>\n",
       "      <td>My Little Pony: A New Generation</td>\n",
       "      <td>Kimiko Glenn</td>\n",
       "      <td>NaN</td>\n",
       "      <td>Children &amp; Family Movies</td>\n",
       "      <td>José Luis Ucha</td>\n",
       "      <td>s7</td>\n",
       "      <td>Movie</td>\n",
       "      <td>September 24, 2021</td>\n",
       "      <td>2021</td>\n",
       "      <td>PG</td>\n",
       "      <td>91 min</td>\n",
       "      <td>September 24</td>\n",
       "    </tr>\n",
       "    <tr>\n",
       "      <th>...</th>\n",
       "      <td>...</td>\n",
       "      <td>...</td>\n",
       "      <td>...</td>\n",
       "      <td>...</td>\n",
       "      <td>...</td>\n",
       "      <td>...</td>\n",
       "      <td>...</td>\n",
       "      <td>...</td>\n",
       "      <td>...</td>\n",
       "      <td>...</td>\n",
       "      <td>...</td>\n",
       "      <td>...</td>\n",
       "    </tr>\n",
       "    <tr>\n",
       "      <th>201986</th>\n",
       "      <td>Zubaan</td>\n",
       "      <td>Anita Shabdish</td>\n",
       "      <td>India</td>\n",
       "      <td>International Movies</td>\n",
       "      <td>Mozez Singh</td>\n",
       "      <td>s8807</td>\n",
       "      <td>Movie</td>\n",
       "      <td>March 2, 2019</td>\n",
       "      <td>2015</td>\n",
       "      <td>TV-14</td>\n",
       "      <td>111 min</td>\n",
       "      <td>March 2</td>\n",
       "    </tr>\n",
       "    <tr>\n",
       "      <th>201987</th>\n",
       "      <td>Zubaan</td>\n",
       "      <td>Anita Shabdish</td>\n",
       "      <td>India</td>\n",
       "      <td>Music &amp; Musicals</td>\n",
       "      <td>Mozez Singh</td>\n",
       "      <td>s8807</td>\n",
       "      <td>Movie</td>\n",
       "      <td>March 2, 2019</td>\n",
       "      <td>2015</td>\n",
       "      <td>TV-14</td>\n",
       "      <td>111 min</td>\n",
       "      <td>March 2</td>\n",
       "    </tr>\n",
       "    <tr>\n",
       "      <th>201988</th>\n",
       "      <td>Zubaan</td>\n",
       "      <td>Chittaranjan Tripathy</td>\n",
       "      <td>India</td>\n",
       "      <td>Dramas</td>\n",
       "      <td>Mozez Singh</td>\n",
       "      <td>s8807</td>\n",
       "      <td>Movie</td>\n",
       "      <td>March 2, 2019</td>\n",
       "      <td>2015</td>\n",
       "      <td>TV-14</td>\n",
       "      <td>111 min</td>\n",
       "      <td>March 2</td>\n",
       "    </tr>\n",
       "    <tr>\n",
       "      <th>201989</th>\n",
       "      <td>Zubaan</td>\n",
       "      <td>Chittaranjan Tripathy</td>\n",
       "      <td>India</td>\n",
       "      <td>International Movies</td>\n",
       "      <td>Mozez Singh</td>\n",
       "      <td>s8807</td>\n",
       "      <td>Movie</td>\n",
       "      <td>March 2, 2019</td>\n",
       "      <td>2015</td>\n",
       "      <td>TV-14</td>\n",
       "      <td>111 min</td>\n",
       "      <td>March 2</td>\n",
       "    </tr>\n",
       "    <tr>\n",
       "      <th>201990</th>\n",
       "      <td>Zubaan</td>\n",
       "      <td>Chittaranjan Tripathy</td>\n",
       "      <td>India</td>\n",
       "      <td>Music &amp; Musicals</td>\n",
       "      <td>Mozez Singh</td>\n",
       "      <td>s8807</td>\n",
       "      <td>Movie</td>\n",
       "      <td>March 2, 2019</td>\n",
       "      <td>2015</td>\n",
       "      <td>TV-14</td>\n",
       "      <td>111 min</td>\n",
       "      <td>March 2</td>\n",
       "    </tr>\n",
       "  </tbody>\n",
       "</table>\n",
       "<p>145843 rows × 12 columns</p>\n",
       "</div>"
      ],
      "text/plain": [
       "                                   title                 Actors  \\\n",
       "0                   Dick Johnson Is Dead          Unknown Actor   \n",
       "159     My Little Pony: A New Generation        Vanessa Hudgens   \n",
       "160     My Little Pony: A New Generation        Vanessa Hudgens   \n",
       "161     My Little Pony: A New Generation           Kimiko Glenn   \n",
       "162     My Little Pony: A New Generation           Kimiko Glenn   \n",
       "...                                  ...                    ...   \n",
       "201986                            Zubaan         Anita Shabdish   \n",
       "201987                            Zubaan         Anita Shabdish   \n",
       "201988                            Zubaan  Chittaranjan Tripathy   \n",
       "201989                            Zubaan  Chittaranjan Tripathy   \n",
       "201990                            Zubaan  Chittaranjan Tripathy   \n",
       "\n",
       "              country                     Genre         director show_id  \\\n",
       "0       United States             Documentaries  Kirsten Johnson      s1   \n",
       "159               NaN  Children & Family Movies    Robert Cullen      s7   \n",
       "160               NaN  Children & Family Movies   José Luis Ucha      s7   \n",
       "161               NaN  Children & Family Movies    Robert Cullen      s7   \n",
       "162               NaN  Children & Family Movies   José Luis Ucha      s7   \n",
       "...               ...                       ...              ...     ...   \n",
       "201986          India      International Movies      Mozez Singh   s8807   \n",
       "201987          India          Music & Musicals      Mozez Singh   s8807   \n",
       "201988          India                    Dramas      Mozez Singh   s8807   \n",
       "201989          India      International Movies      Mozez Singh   s8807   \n",
       "201990          India          Music & Musicals      Mozez Singh   s8807   \n",
       "\n",
       "         type          date_added  release_year rating duration         month  \n",
       "0       Movie  September 25, 2021          2020  PG-13   90 min  September 25  \n",
       "159     Movie  September 24, 2021          2021     PG   91 min  September 24  \n",
       "160     Movie  September 24, 2021          2021     PG   91 min  September 24  \n",
       "161     Movie  September 24, 2021          2021     PG   91 min  September 24  \n",
       "162     Movie  September 24, 2021          2021     PG   91 min  September 24  \n",
       "...       ...                 ...           ...    ...      ...           ...  \n",
       "201986  Movie       March 2, 2019          2015  TV-14  111 min       March 2  \n",
       "201987  Movie       March 2, 2019          2015  TV-14  111 min       March 2  \n",
       "201988  Movie       March 2, 2019          2015  TV-14  111 min       March 2  \n",
       "201989  Movie       March 2, 2019          2015  TV-14  111 min       March 2  \n",
       "201990  Movie       March 2, 2019          2015  TV-14  111 min       March 2  \n",
       "\n",
       "[145843 rows x 12 columns]"
      ]
     },
     "execution_count": 38,
     "metadata": {},
     "output_type": "execute_result"
    }
   ],
   "source": [
    "# only Movies data\n",
    "df_final_movies"
   ]
  },
  {
   "cell_type": "code",
   "execution_count": 41,
   "id": "502f2449",
   "metadata": {},
   "outputs": [
    {
     "data": {
      "text/html": [
       "<div>\n",
       "<style scoped>\n",
       "    .dataframe tbody tr th:only-of-type {\n",
       "        vertical-align: middle;\n",
       "    }\n",
       "\n",
       "    .dataframe tbody tr th {\n",
       "        vertical-align: top;\n",
       "    }\n",
       "\n",
       "    .dataframe thead th {\n",
       "        text-align: right;\n",
       "    }\n",
       "</style>\n",
       "<table border=\"1\" class=\"dataframe\">\n",
       "  <thead>\n",
       "    <tr style=\"text-align: right;\">\n",
       "      <th></th>\n",
       "      <th>title</th>\n",
       "      <th>Actors</th>\n",
       "      <th>country</th>\n",
       "      <th>Genre</th>\n",
       "      <th>director</th>\n",
       "      <th>show_id</th>\n",
       "      <th>type</th>\n",
       "      <th>date_added</th>\n",
       "      <th>release_year</th>\n",
       "      <th>rating</th>\n",
       "      <th>duration</th>\n",
       "      <th>month</th>\n",
       "    </tr>\n",
       "  </thead>\n",
       "  <tbody>\n",
       "    <tr>\n",
       "      <th>1</th>\n",
       "      <td>Blood &amp; Water</td>\n",
       "      <td>Ama Qamata</td>\n",
       "      <td>South Africa</td>\n",
       "      <td>International TV Shows</td>\n",
       "      <td>UnKnown Director</td>\n",
       "      <td>s2</td>\n",
       "      <td>TV Show</td>\n",
       "      <td>September 24, 2021</td>\n",
       "      <td>2021</td>\n",
       "      <td>TV-MA</td>\n",
       "      <td>2 Seasons</td>\n",
       "      <td>September 24</td>\n",
       "    </tr>\n",
       "    <tr>\n",
       "      <th>2</th>\n",
       "      <td>Blood &amp; Water</td>\n",
       "      <td>Ama Qamata</td>\n",
       "      <td>South Africa</td>\n",
       "      <td>TV Dramas</td>\n",
       "      <td>UnKnown Director</td>\n",
       "      <td>s2</td>\n",
       "      <td>TV Show</td>\n",
       "      <td>September 24, 2021</td>\n",
       "      <td>2021</td>\n",
       "      <td>TV-MA</td>\n",
       "      <td>2 Seasons</td>\n",
       "      <td>September 24</td>\n",
       "    </tr>\n",
       "    <tr>\n",
       "      <th>3</th>\n",
       "      <td>Blood &amp; Water</td>\n",
       "      <td>Ama Qamata</td>\n",
       "      <td>South Africa</td>\n",
       "      <td>TV Mysteries</td>\n",
       "      <td>UnKnown Director</td>\n",
       "      <td>s2</td>\n",
       "      <td>TV Show</td>\n",
       "      <td>September 24, 2021</td>\n",
       "      <td>2021</td>\n",
       "      <td>TV-MA</td>\n",
       "      <td>2 Seasons</td>\n",
       "      <td>September 24</td>\n",
       "    </tr>\n",
       "    <tr>\n",
       "      <th>4</th>\n",
       "      <td>Blood &amp; Water</td>\n",
       "      <td>Khosi Ngema</td>\n",
       "      <td>South Africa</td>\n",
       "      <td>International TV Shows</td>\n",
       "      <td>UnKnown Director</td>\n",
       "      <td>s2</td>\n",
       "      <td>TV Show</td>\n",
       "      <td>September 24, 2021</td>\n",
       "      <td>2021</td>\n",
       "      <td>TV-MA</td>\n",
       "      <td>2 Seasons</td>\n",
       "      <td>September 24</td>\n",
       "    </tr>\n",
       "    <tr>\n",
       "      <th>5</th>\n",
       "      <td>Blood &amp; Water</td>\n",
       "      <td>Khosi Ngema</td>\n",
       "      <td>South Africa</td>\n",
       "      <td>TV Dramas</td>\n",
       "      <td>UnKnown Director</td>\n",
       "      <td>s2</td>\n",
       "      <td>TV Show</td>\n",
       "      <td>September 24, 2021</td>\n",
       "      <td>2021</td>\n",
       "      <td>TV-MA</td>\n",
       "      <td>2 Seasons</td>\n",
       "      <td>September 24</td>\n",
       "    </tr>\n",
       "    <tr>\n",
       "      <th>...</th>\n",
       "      <td>...</td>\n",
       "      <td>...</td>\n",
       "      <td>...</td>\n",
       "      <td>...</td>\n",
       "      <td>...</td>\n",
       "      <td>...</td>\n",
       "      <td>...</td>\n",
       "      <td>...</td>\n",
       "      <td>...</td>\n",
       "      <td>...</td>\n",
       "      <td>...</td>\n",
       "      <td>...</td>\n",
       "    </tr>\n",
       "    <tr>\n",
       "      <th>201864</th>\n",
       "      <td>Zindagi Gulzar Hai</td>\n",
       "      <td>Hina Khawaja Bayat</td>\n",
       "      <td>Pakistan</td>\n",
       "      <td>Romantic TV Shows</td>\n",
       "      <td>UnKnown Director</td>\n",
       "      <td>s8801</td>\n",
       "      <td>TV Show</td>\n",
       "      <td>December 15, 2016</td>\n",
       "      <td>2012</td>\n",
       "      <td>TV-PG</td>\n",
       "      <td>1 Season</td>\n",
       "      <td>December 15</td>\n",
       "    </tr>\n",
       "    <tr>\n",
       "      <th>201865</th>\n",
       "      <td>Zindagi Gulzar Hai</td>\n",
       "      <td>Hina Khawaja Bayat</td>\n",
       "      <td>Pakistan</td>\n",
       "      <td>TV Dramas</td>\n",
       "      <td>UnKnown Director</td>\n",
       "      <td>s8801</td>\n",
       "      <td>TV Show</td>\n",
       "      <td>December 15, 2016</td>\n",
       "      <td>2012</td>\n",
       "      <td>TV-PG</td>\n",
       "      <td>1 Season</td>\n",
       "      <td>December 15</td>\n",
       "    </tr>\n",
       "    <tr>\n",
       "      <th>201932</th>\n",
       "      <td>Zombie Dumb</td>\n",
       "      <td>Unknown Actor</td>\n",
       "      <td>NaN</td>\n",
       "      <td>Kids' TV</td>\n",
       "      <td>UnKnown Director</td>\n",
       "      <td>s8804</td>\n",
       "      <td>TV Show</td>\n",
       "      <td>July 1, 2019</td>\n",
       "      <td>2018</td>\n",
       "      <td>TV-Y7</td>\n",
       "      <td>2 Seasons</td>\n",
       "      <td>July 1</td>\n",
       "    </tr>\n",
       "    <tr>\n",
       "      <th>201933</th>\n",
       "      <td>Zombie Dumb</td>\n",
       "      <td>Unknown Actor</td>\n",
       "      <td>NaN</td>\n",
       "      <td>Korean TV Shows</td>\n",
       "      <td>UnKnown Director</td>\n",
       "      <td>s8804</td>\n",
       "      <td>TV Show</td>\n",
       "      <td>July 1, 2019</td>\n",
       "      <td>2018</td>\n",
       "      <td>TV-Y7</td>\n",
       "      <td>2 Seasons</td>\n",
       "      <td>July 1</td>\n",
       "    </tr>\n",
       "    <tr>\n",
       "      <th>201934</th>\n",
       "      <td>Zombie Dumb</td>\n",
       "      <td>Unknown Actor</td>\n",
       "      <td>NaN</td>\n",
       "      <td>TV Comedies</td>\n",
       "      <td>UnKnown Director</td>\n",
       "      <td>s8804</td>\n",
       "      <td>TV Show</td>\n",
       "      <td>July 1, 2019</td>\n",
       "      <td>2018</td>\n",
       "      <td>TV-Y7</td>\n",
       "      <td>2 Seasons</td>\n",
       "      <td>July 1</td>\n",
       "    </tr>\n",
       "  </tbody>\n",
       "</table>\n",
       "<p>56148 rows × 12 columns</p>\n",
       "</div>"
      ],
      "text/plain": [
       "                     title              Actors       country  \\\n",
       "1            Blood & Water          Ama Qamata  South Africa   \n",
       "2            Blood & Water          Ama Qamata  South Africa   \n",
       "3            Blood & Water          Ama Qamata  South Africa   \n",
       "4            Blood & Water         Khosi Ngema  South Africa   \n",
       "5            Blood & Water         Khosi Ngema  South Africa   \n",
       "...                    ...                 ...           ...   \n",
       "201864  Zindagi Gulzar Hai  Hina Khawaja Bayat      Pakistan   \n",
       "201865  Zindagi Gulzar Hai  Hina Khawaja Bayat      Pakistan   \n",
       "201932         Zombie Dumb       Unknown Actor           NaN   \n",
       "201933         Zombie Dumb       Unknown Actor           NaN   \n",
       "201934         Zombie Dumb       Unknown Actor           NaN   \n",
       "\n",
       "                         Genre          director show_id     type  \\\n",
       "1       International TV Shows  UnKnown Director      s2  TV Show   \n",
       "2                    TV Dramas  UnKnown Director      s2  TV Show   \n",
       "3                 TV Mysteries  UnKnown Director      s2  TV Show   \n",
       "4       International TV Shows  UnKnown Director      s2  TV Show   \n",
       "5                    TV Dramas  UnKnown Director      s2  TV Show   \n",
       "...                        ...               ...     ...      ...   \n",
       "201864       Romantic TV Shows  UnKnown Director   s8801  TV Show   \n",
       "201865               TV Dramas  UnKnown Director   s8801  TV Show   \n",
       "201932                Kids' TV  UnKnown Director   s8804  TV Show   \n",
       "201933         Korean TV Shows  UnKnown Director   s8804  TV Show   \n",
       "201934             TV Comedies  UnKnown Director   s8804  TV Show   \n",
       "\n",
       "                date_added  release_year rating   duration         month  \n",
       "1       September 24, 2021          2021  TV-MA  2 Seasons  September 24  \n",
       "2       September 24, 2021          2021  TV-MA  2 Seasons  September 24  \n",
       "3       September 24, 2021          2021  TV-MA  2 Seasons  September 24  \n",
       "4       September 24, 2021          2021  TV-MA  2 Seasons  September 24  \n",
       "5       September 24, 2021          2021  TV-MA  2 Seasons  September 24  \n",
       "...                    ...           ...    ...        ...           ...  \n",
       "201864   December 15, 2016          2012  TV-PG   1 Season   December 15  \n",
       "201865   December 15, 2016          2012  TV-PG   1 Season   December 15  \n",
       "201932        July 1, 2019          2018  TV-Y7  2 Seasons        July 1  \n",
       "201933        July 1, 2019          2018  TV-Y7  2 Seasons        July 1  \n",
       "201934        July 1, 2019          2018  TV-Y7  2 Seasons        July 1  \n",
       "\n",
       "[56148 rows x 12 columns]"
      ]
     },
     "execution_count": 41,
     "metadata": {},
     "output_type": "execute_result"
    }
   ],
   "source": [
    "# only TV-SHOW DATA\n",
    "df_final_season"
   ]
  },
  {
   "cell_type": "markdown",
   "id": "93465bcf",
   "metadata": {},
   "source": [
    "### Non-Graphical Analysis: Value counts and unique attributes"
   ]
  },
  {
   "cell_type": "code",
   "execution_count": 7,
   "id": "889a4154",
   "metadata": {},
   "outputs": [
    {
     "name": "stdout",
     "output_type": "stream",
     "text": [
      "No. of ratings -  17\n",
      "Total Titles -  8807\n",
      "Total Directors -  4528\n",
      "Total country -  748\n",
      "Total years  -  74\n",
      "Total Genres -  514\n"
     ]
    }
   ],
   "source": [
    "# UNIQUE ATTRIBUTES\n",
    "print(\"No. of ratings - \",df[\"rating\"].nunique())\n",
    "print(\"Total Titles - \",df[\"title\"].nunique())\n",
    "print(\"Total Directors - \",df[\"director\"].nunique())\n",
    "print(\"Total country - \",df[\"country\"].nunique())\n",
    "print(\"Total years  - \",df[\"release_year\"].nunique())\n",
    "print(\"Total Genres - \",df[\"listed_in\"].nunique())"
   ]
  },
  {
   "cell_type": "code",
   "execution_count": 8,
   "id": "f3064850",
   "metadata": {},
   "outputs": [
    {
     "name": "stdout",
     "output_type": "stream",
     "text": [
      "********* Name of types on Netflix ************* \n",
      "     index  type\n",
      "0    Movie  6131\n",
      "1  TV Show  2676\n",
      "\n",
      "********* Name of country having shows on Netflix ************* \n",
      "                                      index  country\n",
      "0                             United States     2818\n",
      "1                                     India      972\n",
      "2                            United Kingdom      419\n",
      "3                                     Japan      245\n",
      "4                               South Korea      199\n",
      "..                                      ...      ...\n",
      "743              Romania, Bulgaria, Hungary        1\n",
      "744                      Uruguay, Guatemala        1\n",
      "745                France, Senegal, Belgium        1\n",
      "746  Mexico, United States, Spain, Colombia        1\n",
      "747            United Arab Emirates, Jordan        1\n",
      "\n",
      "[748 rows x 2 columns]\n",
      "********* Name of titles on Netflix ************* \n",
      "                                      index  title\n",
      "0                      Dick Johnson Is Dead      1\n",
      "1                                  Ip Man 2      1\n",
      "2          Hannibal Buress: Comedy Camisado      1\n",
      "3                                Turbo FAST      1\n",
      "4                             Masha's Tales      1\n",
      "...                                     ...    ...\n",
      "8802                        Love for Sale 2      1\n",
      "8803                           ROAD TO ROMA      1\n",
      "8804                              Good Time      1\n",
      "8805  Captain Underpants Epic Choice-o-Rama      1\n",
      "8806                                 Zubaan      1\n",
      "\n",
      "[8807 rows x 2 columns]\n",
      "\n",
      "********* Name of Directors on Netflix from MOVIES ************* \n",
      "                    index  director\n",
      "0        UnKnown Director      1285\n",
      "1         Martin Scorsese       419\n",
      "2         Youssef Chahine       409\n",
      "3     Cathy Garcia-Molina       356\n",
      "4        Steven Spielberg       355\n",
      "...                   ...       ...\n",
      "4773        John Smithson         1\n",
      "4774         Alex Coletti         1\n",
      "4775       Michael Govier         1\n",
      "4776       Sabaah Folayan         1\n",
      "4777      Kirsten Johnson         1\n",
      "\n",
      "[4778 rows x 2 columns]\n",
      "\n",
      "********* Name of Directors on Netflix  From TV-SHOWS ************* \n",
      "                index  director\n",
      "0    UnKnown Director     49358\n",
      "1          Noam Murro       189\n",
      "2       Thomas Astruc       160\n",
      "3     Houda Benyamina       104\n",
      "4     Damien Chazelle       104\n",
      "..                ...       ...\n",
      "295     Rashida Jones         1\n",
      "296   Sharon Grimberg         1\n",
      "297   Garrett Bradley         1\n",
      "298       Alex Gibney         1\n",
      "299  Padraic McKinley         1\n",
      "\n",
      "[300 rows x 2 columns]\n",
      "\n",
      "********* Name of Actors on Netflix  From Movies ************* \n",
      "                index  Actors\n",
      "0       Unknown Actor    1328\n",
      "1         Liam Neeson     161\n",
      "2       Alfred Molina     157\n",
      "3      John Krasinski     138\n",
      "4         Salma Hayek     130\n",
      "...               ...     ...\n",
      "25947   Bill Goldberg       1\n",
      "25948        BJ Verot       1\n",
      "25949      Sean Skene       1\n",
      "25950   Marrese Crump       1\n",
      "25951    Rebekah Graf       1\n",
      "\n",
      "[25952 rows x 2 columns]\n",
      "\n",
      "********* Name of Actors on Netflix  From TV-SHOWS ************* \n",
      "                    index  Actors\n",
      "0           Unknown Actor     818\n",
      "1      David Attenborough      82\n",
      "2        Takahiro Sakurai      56\n",
      "3               Yuki Kaji      45\n",
      "4               Ai Kayano      41\n",
      "...                   ...     ...\n",
      "14859       Jimmy O. Yang       1\n",
      "14860       Diana Silvers       1\n",
      "14861      John Malkovich       1\n",
      "14862      Sassy Bermudez       1\n",
      "14863       Telma Hopkins       1\n",
      "\n",
      "[14864 rows x 2 columns]\n"
     ]
    }
   ],
   "source": [
    "# ATTRIBUTES VALUE COUNTS \n",
    "print(\"********* Name of types on Netflix ************* \")\n",
    "print(pd.DataFrame(df[\"type\"].value_counts().reset_index()))\n",
    "print()\n",
    "print(\"********* Name of country having shows on Netflix ************* \")\n",
    "print(pd.DataFrame(df[\"country\"].value_counts().reset_index()))\n",
    "print(\"********* Name of titles on Netflix ************* \")\n",
    "print(pd.DataFrame(df[\"title\"].value_counts().reset_index()))\n",
    "print()\n",
    "print(\"********* Name of Directors on Netflix from MOVIES ************* \")\n",
    "print(pd.DataFrame(df_final_movies[\"director\"].value_counts().reset_index()))\n",
    "print()\n",
    "print(\"********* Name of Directors on Netflix  From TV-SHOWS ************* \")\n",
    "print(pd.DataFrame(df_final_season[\"director\"].value_counts().reset_index()))\n",
    "print()\n",
    "print(\"********* Name of Actors on Netflix  From Movies ************* \")\n",
    "print(pd.DataFrame(df_final_movies[\"Actors\"].value_counts().reset_index()))\n",
    "print()\n",
    "print(\"********* Name of Actors on Netflix  From TV-SHOWS ************* \")\n",
    "print(pd.DataFrame(df_final_season[\"Actors\"].value_counts().reset_index()))\n",
    "\n"
   ]
  },
  {
   "cell_type": "code",
   "execution_count": 52,
   "id": "0e400e00",
   "metadata": {},
   "outputs": [
    {
     "name": "stdout",
     "output_type": "stream",
     "text": [
      "********* Name of Genres on Netflix from movies ************* \n",
      "                       index  Genre\n",
      "0                     Dramas  29775\n",
      "1       International Movies  28211\n",
      "2                   Comedies  20829\n",
      "3         Action & Adventure  12216\n",
      "4         Independent Movies   9834\n",
      "5   Children & Family Movies   9771\n",
      "6                  Thrillers   7107\n",
      "7            Romantic Movies   6412\n",
      "8              Horror Movies   4571\n",
      "9           Sci-Fi & Fantasy   4037\n",
      "10          Music & Musicals   3077\n",
      "11             Documentaries   2407\n",
      "12             Sports Movies   1531\n",
      "13            Classic Movies   1434\n",
      "14               Cult Movies   1077\n",
      "15            Anime Features   1045\n",
      "16              LGBTQ Movies    838\n",
      "17      Faith & Spirituality    719\n",
      "18           Stand-Up Comedy    540\n",
      "19                    Movies    412\n",
      "\n",
      "********* Name of Genres on Netflix from TV-SHOWS ************* \n",
      "                           index  Genre\n",
      "0         International TV Shows  12845\n",
      "1                      TV Dramas   8942\n",
      "2                    TV Comedies   4963\n",
      "3                 Crime TV Shows   4733\n",
      "4                       Kids' TV   4568\n",
      "5              Romantic TV Shows   3049\n",
      "6                   Anime Series   2313\n",
      "7          TV Action & Adventure   2288\n",
      "8      Spanish-Language TV Shows   2126\n",
      "9               British TV Shows   1808\n",
      "10                  TV Mysteries   1281\n",
      "11               Korean TV Shows   1122\n",
      "12           TV Sci-Fi & Fantasy   1045\n",
      "13                     TV Horror    941\n",
      "14                    Docuseries    845\n",
      "15                  TV Thrillers    768\n",
      "16                 Teen TV Shows    742\n",
      "17                    Reality TV    735\n",
      "18                      TV Shows    337\n",
      "19             Classic & Cult TV    272\n",
      "20  Stand-Up Comedy & Talk Shows    268\n",
      "21           Science & Nature TV    157\n"
     ]
    }
   ],
   "source": [
    "print(\"********* Name of Genres on Netflix from movies ************* \")\n",
    "print(pd.DataFrame(df_final_movies[\"Genre\"].value_counts().reset_index()))\n",
    "print()\n",
    "print(\"********* Name of Genres on Netflix from TV-SHOWS ************* \")\n",
    "print(pd.DataFrame(df_final_season[\"Genre\"].value_counts().reset_index()))\n"
   ]
  },
  {
   "cell_type": "markdown",
   "id": "5a733b79",
   "metadata": {},
   "source": [
    "### Visual Analysis - Univariate, Bivariate after pre-processing of the data"
   ]
  },
  {
   "cell_type": "code",
   "execution_count": 38,
   "id": "82b12894",
   "metadata": {},
   "outputs": [],
   "source": [
    "# considering the top datas from both Movies and TV-SHOWS\n",
    "#1. Movies\n",
    "top_3_genres=df_final_movies[\"Genre\"].value_counts().index[:3]\n",
    "top_3_titles=df_final_movies[\"title\"].value_counts().index[:10]\n",
    "top_3_actors=df_final_movies[\"Actors\"].value_counts().index[:4]\n",
    "top_3_directors=df_final_movies[\"director\"].value_counts().index[:4]\n",
    "top_3_months=df_final_movies[\"month\"].value_counts().index[:3]\n",
    "top_3_countries=df_final_movies[\"country\"].value_counts().index[:3]\n",
    "top_3_ratings_movies=df_final_movies[\"rating\"].value_counts().index[:3]\n",
    "top_25_years=df_final_movies[\"release_year\"].value_counts().index[:25]\n",
    "top_10_duration=df_final_movies[\"duration\"].value_counts().index[:10]\n",
    "#2. TV-SHOWS\n",
    "top_3_genres1=df_final_season[\"Genre\"].value_counts().index[:3]\n",
    "top_3_titles1=df_final_season[\"title\"].value_counts().index[:10]\n",
    "top_3_actors1=df_final_season[\"Actors\"].value_counts().index[:4]\n",
    "top_3_directors1=df_final_season[\"director\"].value_counts().index[:4]\n",
    "top_3_months1=df_final_season[\"month\"].value_counts().index[:3]\n",
    "top_3_countries1=df_final_season[\"country\"].value_counts().index[:3]\n",
    "top_3_ratings_seasons1=df_final_season[\"rating\"].value_counts().index[:3]\n",
    "top_25_years1=df_final_season[\"release_year\"].value_counts().index[:25]\n",
    "top_10_duration1=df_final_season[\"duration\"].value_counts().index[:10]"
   ]
  },
  {
   "cell_type": "markdown",
   "id": "a3026901",
   "metadata": {},
   "source": [
    "### For continuous variable(s): Distplot, countplot, histogram for univariate analysis "
   ]
  },
  {
   "cell_type": "code",
   "execution_count": 133,
   "id": "6f57b88a",
   "metadata": {},
   "outputs": [
    {
     "data": {
      "image/png": "[encoded data removed]",
      "text/plain": [
       "<Figure size 432x288 with 1 Axes>"
      ]
     },
     "metadata": {
      "needs_background": "light"
     },
     "output_type": "display_data"
    },
    {
     "data": {
      "image/png": "[encoded data removed]",
      "text/plain": [
       "<Figure size 432x288 with 1 Axes>"
      ]
     },
     "metadata": {
      "needs_background": "light"
     },
     "output_type": "display_data"
    }
   ],
   "source": [
    "                                       # countplot for release_year\n",
    "#movies\n",
    "top_25_releaseyears=df_final_movies.loc[(df_final_movies[\"release_year\"].isin(top_25_years))]\n",
    "sns.countplot(data=top_25_releaseyears,x=\"release_year\")\n",
    "plt.xticks(rotation=90)\n",
    "plt.legend([\"movies_release_year\"])\n",
    "plt.show()\n",
    "# seasons\n",
    "top_25_releaseyears1=df_final_season.loc[(df_final_season[\"release_year\"].isin(top_25_years1))]\n",
    "sns.countplot(data=top_25_releaseyears1,x=\"release_year\")\n",
    "plt.xticks(rotation=90)\n",
    "plt.legend([\"TV-SHOWS_release_year\"])            \n",
    "plt.show()"
   ]
  },
  {
   "cell_type": "code",
   "execution_count": 134,
   "id": "1744e0e8",
   "metadata": {},
   "outputs": [
    {
     "data": {
      "image/png": "[encoded data removed]",
      "text/plain": [
       "<Figure size 864x576 with 1 Axes>"
      ]
     },
     "metadata": {
      "needs_background": "light"
     },
     "output_type": "display_data"
    },
    {
     "data": {
      "image/png": "[encoded data removed]",
      "text/plain": [
       "<Figure size 864x576 with 1 Axes>"
      ]
     },
     "metadata": {
      "needs_background": "light"
     },
     "output_type": "display_data"
    }
   ],
   "source": [
    "                                    # histplot for release_year\n",
    "#movies\n",
    "plt.figure(figsize=(12,8))\n",
    "sns.histplot(data=top_25_releaseyears,x=\"release_year\",color=\"red\")\n",
    "plt.xticks(rotation=90)\n",
    "plt.legend([\"movies_release_year\",\"counts\"])\n",
    "plt.show()\n",
    "#seasons\n",
    "plt.figure(figsize=(12,8))\n",
    "top_25_releaseyears1=df_final_season.loc[(df_final_season[\"release_year\"].isin(top_25_years1))]\n",
    "sns.histplot(data=top_25_releaseyears1,x=\"release_year\",color=\"blue\")\n",
    "plt.xticks(rotation=90)\n",
    "plt.legend([\"TV-SHOWS_release_year\"])            \n",
    "plt.show()"
   ]
  },
  {
   "cell_type": "code",
   "execution_count": 135,
   "id": "a4e3fed4",
   "metadata": {},
   "outputs": [
    {
     "data": {
      "text/plain": [
       "<Figure size 864x576 with 0 Axes>"
      ]
     },
     "metadata": {},
     "output_type": "display_data"
    },
    {
     "data": {
      "image/png": "[encoded data removed]",
      "text/plain": [
       "<Figure size 360x360 with 1 Axes>"
      ]
     },
     "metadata": {
      "needs_background": "light"
     },
     "output_type": "display_data"
    },
    {
     "data": {
      "text/plain": [
       "<Figure size 864x576 with 0 Axes>"
      ]
     },
     "metadata": {},
     "output_type": "display_data"
    },
    {
     "data": {
      "image/png": "[encoded data removed]",
      "text/plain": [
       "<Figure size 360x360 with 1 Axes>"
      ]
     },
     "metadata": {
      "needs_background": "light"
     },
     "output_type": "display_data"
    }
   ],
   "source": [
    "                                  # Displot for Release_years\n",
    "#movies\n",
    "plt.figure(figsize=(12,8))\n",
    "sns.displot(data=top_25_releaseyears,x=\"release_year\",color=\"red\")\n",
    "plt.xticks(rotation=90)\n",
    "plt.legend([\"movies_release_year\",\"counts\"])\n",
    "plt.show()\n",
    "#seasons\n",
    "plt.figure(figsize=(12,8))\n",
    "top_25_releaseyears1=df_final_season.loc[(df_final_season[\"release_year\"].isin(top_25_years1))]\n",
    "sns.displot(data=top_25_releaseyears1,x=\"release_year\",color=\"blue\")\n",
    "plt.xticks(rotation=90)\n",
    "plt.legend([\"TV-SHOWS_release_year\"])            \n",
    "plt.show()"
   ]
  },
  {
   "cell_type": "code",
   "execution_count": 136,
   "id": "3e4b3954",
   "metadata": {},
   "outputs": [
    {
     "data": {
      "image/png": "[encoded data removed]",
      "text/plain": [
       "<Figure size 432x288 with 1 Axes>"
      ]
     },
     "metadata": {
      "needs_background": "light"
     },
     "output_type": "display_data"
    },
    {
     "data": {
      "image/png": "[encoded data removed]",
      "text/plain": [
       "<Figure size 432x288 with 1 Axes>"
      ]
     },
     "metadata": {
      "needs_background": "light"
     },
     "output_type": "display_data"
    }
   ],
   "source": [
    "                                   #Countplot for duration\n",
    "#movies\n",
    "top_10_duration_movies=df_final_movies.loc[(df_final_movies[\"duration\"].isin(top_10_duration))]\n",
    "sns.countplot(data=top_10_duration_movies,x=\"duration\",color=\"red\")\n",
    "plt.xticks(rotation=90)\n",
    "plt.legend([\"movies_duration\"])\n",
    "plt.show()\n",
    "#seaons\n",
    "top_10_duration_season=df_final_season.loc[(df_final_season[\"duration\"].isin(top_10_duration1))]\n",
    "sns.countplot(data=top_10_duration_season,x=\"duration\",color=\"blue\")\n",
    "plt.xticks(rotation=90)\n",
    "plt.legend([\"TV-SHOW_duration\"])\n",
    "plt.show()"
   ]
  },
  {
   "cell_type": "code",
   "execution_count": 137,
   "id": "966fe4e6",
   "metadata": {},
   "outputs": [
    {
     "data": {
      "image/png": "[encoded data removed]",
      "text/plain": [
       "<Figure size 432x288 with 1 Axes>"
      ]
     },
     "metadata": {
      "needs_background": "light"
     },
     "output_type": "display_data"
    },
    {
     "data": {
      "image/png": "[encoded data removed]",
      "text/plain": [
       "<Figure size 432x288 with 1 Axes>"
      ]
     },
     "metadata": {
      "needs_background": "light"
     },
     "output_type": "display_data"
    }
   ],
   "source": [
    "                                             # histplot for release_year\n",
    "#movies\n",
    "top_10_duration_movies=df_final_movies.loc[(df_final_movies[\"duration\"].isin(top_10_duration))]\n",
    "sns.histplot(data=top_10_duration_movies,x=\"duration\",color=\"red\")\n",
    "plt.xticks(rotation=90)\n",
    "plt.legend([\"movies_duration\"])\n",
    "plt.show()\n",
    "#seaons\n",
    "top_10_duration_season=df_final_season.loc[(df_final_season[\"duration\"].isin(top_10_duration1))]\n",
    "sns.histplot(data=top_10_duration_season,x=\"duration\",color=\"blue\")\n",
    "plt.xticks(rotation=90)\n",
    "plt.legend([\"TV-SHOW_duration\"])\n",
    "plt.show()"
   ]
  },
  {
   "cell_type": "markdown",
   "id": "bdf1364d",
   "metadata": {},
   "source": [
    "#### For categorical variable(s): Boxplot "
   ]
  },
  {
   "cell_type": "code",
   "execution_count": 138,
   "id": "71555068",
   "metadata": {},
   "outputs": [
    {
     "data": {
      "image/png": "[encoded data removed]",
      "text/plain": [
       "<Figure size 864x576 with 1 Axes>"
      ]
     },
     "metadata": {
      "needs_background": "light"
     },
     "output_type": "display_data"
    },
    {
     "data": {
      "image/png": "[encoded data removed]",
      "text/plain": [
       "<Figure size 864x576 with 1 Axes>"
      ]
     },
     "metadata": {
      "needs_background": "light"
     },
     "output_type": "display_data"
    }
   ],
   "source": [
    "                                    # TOP 3 Genre v/s last 25 years\n",
    "#Movies\n",
    "top_3_data_Genres=df_final_movies.loc[(df_final_movies[\"Genre\"].isin(top_3_genres))]\n",
    "plt.figure(figsize=(12,8))\n",
    "sns.boxplot(data=top_3_data_Genres,x=\"Genre\",y=\"release_year\")\n",
    "plt.ylim(bottom=1995,top=2020)\n",
    "plt.legend([\"Movies_Genre\"])\n",
    "plt.show()\n",
    "#TV-SHOWS\n",
    "top_3_data_Genres1=df_final_season.loc[(df_final_season[\"Genre\"].isin(top_3_genres1))]\n",
    "plt.figure(figsize=(12,8))\n",
    "sns.boxplot(data=top_3_data_Genres1,x=\"Genre\",y=\"release_year\")\n",
    "plt.ylim(bottom=1995,top=2020)\n",
    "plt.legend([\"TV-SHOW_Genre\"])\n",
    "plt.show()"
   ]
  },
  {
   "cell_type": "code",
   "execution_count": 14,
   "id": "e423f9d8",
   "metadata": {},
   "outputs": [
    {
     "data": {
      "image/png": "[encoded data removed]",
      "text/plain": [
       "<Figure size 864x576 with 1 Axes>"
      ]
     },
     "metadata": {
      "needs_background": "light"
     },
     "output_type": "display_data"
    },
    {
     "data": {
      "image/png": "[encoded data removed]",
      "text/plain": [
       "<Figure size 864x576 with 1 Axes>"
      ]
     },
     "metadata": {
      "needs_background": "light"
     },
     "output_type": "display_data"
    }
   ],
   "source": [
    "                                # TOP 4 Actor v/s last 25 years\n",
    "#Movies\n",
    "top_3_data_actors=df_final_movies.loc[(df_final_movies[\"Actors\"].isin(top_3_actors))]\n",
    "plt.figure(figsize=(12,8))\n",
    "sns.boxplot(data=top_3_data_actors,x=\"Actors\",y=\"release_year\")\n",
    "plt.ylim(bottom=1995,top=2020)\n",
    "plt.legend([\"Movies actor\"])\n",
    "plt.show()\n",
    "#TV-SHOWS\n",
    "top_3_data_actors1=df_final_season.loc[(df_final_season[\"Actors\"].isin(top_3_actors1))]\n",
    "plt.figure(figsize=(12,8))\n",
    "sns.boxplot(data=top_3_data_actors1,x=\"Actors\",y=\"release_year\")\n",
    "plt.ylim(bottom=1995,top=2020)\n",
    "plt.legend([\"TV-SHOW_actor\"])\n",
    "plt.show()"
   ]
  },
  {
   "cell_type": "code",
   "execution_count": 15,
   "id": "0b1656a6",
   "metadata": {},
   "outputs": [
    {
     "data": {
      "image/png": "[encoded data removed]",
      "text/plain": [
       "<Figure size 864x576 with 1 Axes>"
      ]
     },
     "metadata": {
      "needs_background": "light"
     },
     "output_type": "display_data"
    },
    {
     "data": {
      "image/png": "[encoded data removed]",
      "text/plain": [
       "<Figure size 864x576 with 1 Axes>"
      ]
     },
     "metadata": {
      "needs_background": "light"
     },
     "output_type": "display_data"
    }
   ],
   "source": [
    "                                # Directors v/s last 25 years\n",
    "#Movies\n",
    "top_3_data_directors=df_final_movies.loc[(df_final_movies[\"director\"].isin(top_3_directors))]\n",
    "plt.figure(figsize=(12,8))\n",
    "sns.boxplot(data=top_3_data_directors,x=\"director\",y=\"release_year\")\n",
    "plt.ylim(bottom=1995,top=2020)\n",
    "plt.legend([\"movies director\"])\n",
    "plt.show()\n",
    "#TV-SHOWS\n",
    "top_3_data_directors1=df_final_season.loc[(df_final_season[\"director\"].isin(top_3_directors1))]\n",
    "plt.figure(figsize=(12,8))\n",
    "sns.boxplot(data=top_3_data_directors1,x=\"director\",y=\"release_year\")\n",
    "plt.ylim(bottom=1995,top=2020)\n",
    "plt.legend([\"TV-SHOW_director\"])\n",
    "plt.show()"
   ]
  },
  {
   "cell_type": "code",
   "execution_count": 45,
   "id": "0d86cc50",
   "metadata": {},
   "outputs": [
    {
     "data": {
      "image/png": "[encoded data removed]",
      "text/plain": [
       "<Figure size 864x576 with 1 Axes>"
      ]
     },
     "metadata": {
      "needs_background": "light"
     },
     "output_type": "display_data"
    },
    {
     "data": {
      "image/png": "[encoded data removed]",
      "text/plain": [
       "<Figure size 864x576 with 1 Axes>"
      ]
     },
     "metadata": {
      "needs_background": "light"
     },
     "output_type": "display_data"
    }
   ],
   "source": [
    "                                               # top Titles v/s last 10 years\n",
    "#Movies\n",
    "top_3_data_titles=df_final_movies.loc[(df_final_movies[\"title\"].isin(top_3_titles))]\n",
    "plt.figure(figsize=(12,8))\n",
    "sns.boxplot(data=top_3_data_titles,x=\"title\",y=\"release_year\",color=\"red\")\n",
    "plt.ylim(bottom=2010,top=2020)\n",
    "plt.legend([\"movies title\"])\n",
    "plt.xticks(rotation=90)\n",
    "plt.show()\n",
    "\n",
    "# TV-SHOWS\n",
    "top_3_data_titles1=df_final_season.loc[(df_final_season[\"title\"].isin(top_3_titles1))]\n",
    "plt.figure(figsize=(12,8))\n",
    "sns.boxplot(data=top_3_data_titles1,x=\"title\",y=\"release_year\",color=\"red\")\n",
    "plt.ylim(bottom=2010,top=2020)\n",
    "plt.legend([\"TV-SHOW title\"])\n",
    "plt.xticks(rotation=90)\n",
    "plt.show()"
   ]
  },
  {
   "cell_type": "markdown",
   "id": "4643007b",
   "metadata": {},
   "source": [
    "#### For correlation: Heatmaps, Pairplots (10 Points)"
   ]
  },
  {
   "cell_type": "code",
   "execution_count": 57,
   "id": "6dc1886d",
   "metadata": {},
   "outputs": [
    {
     "data": {
      "text/html": [
       "<div>\n",
       "<style scoped>\n",
       "    .dataframe tbody tr th:only-of-type {\n",
       "        vertical-align: middle;\n",
       "    }\n",
       "\n",
       "    .dataframe tbody tr th {\n",
       "        vertical-align: top;\n",
       "    }\n",
       "\n",
       "    .dataframe thead th {\n",
       "        text-align: right;\n",
       "    }\n",
       "</style>\n",
       "<table border=\"1\" class=\"dataframe\">\n",
       "  <thead>\n",
       "    <tr style=\"text-align: right;\">\n",
       "      <th></th>\n",
       "      <th>title</th>\n",
       "      <th>Actors</th>\n",
       "      <th>country</th>\n",
       "      <th>Genre</th>\n",
       "      <th>director</th>\n",
       "      <th>type</th>\n",
       "      <th>release_year</th>\n",
       "      <th>rating</th>\n",
       "      <th>duration</th>\n",
       "      <th>month</th>\n",
       "    </tr>\n",
       "  </thead>\n",
       "  <tbody>\n",
       "    <tr>\n",
       "      <th>10052</th>\n",
       "      <td>9to5: The Story of a Movement</td>\n",
       "      <td>Unknown Actor</td>\n",
       "      <td>NaN</td>\n",
       "      <td>Documentaries</td>\n",
       "      <td>UnKnown Director</td>\n",
       "      <td>Movie</td>\n",
       "      <td>2021</td>\n",
       "      <td>TV-MA</td>\n",
       "      <td>85 min</td>\n",
       "      <td>July 22</td>\n",
       "    </tr>\n",
       "    <tr>\n",
       "      <th>16652</th>\n",
       "      <td>Sisters on Track</td>\n",
       "      <td>Unknown Actor</td>\n",
       "      <td>NaN</td>\n",
       "      <td>Documentaries</td>\n",
       "      <td>UnKnown Director</td>\n",
       "      <td>Movie</td>\n",
       "      <td>2021</td>\n",
       "      <td>PG</td>\n",
       "      <td>97 min</td>\n",
       "      <td>June 24</td>\n",
       "    </tr>\n",
       "    <tr>\n",
       "      <th>16653</th>\n",
       "      <td>Sisters on Track</td>\n",
       "      <td>Unknown Actor</td>\n",
       "      <td>NaN</td>\n",
       "      <td>Sports Movies</td>\n",
       "      <td>UnKnown Director</td>\n",
       "      <td>Movie</td>\n",
       "      <td>2021</td>\n",
       "      <td>PG</td>\n",
       "      <td>97 min</td>\n",
       "      <td>June 24</td>\n",
       "    </tr>\n",
       "    <tr>\n",
       "      <th>18759</th>\n",
       "      <td>Trese After Dark</td>\n",
       "      <td>Unknown Actor</td>\n",
       "      <td>NaN</td>\n",
       "      <td>Anime Features</td>\n",
       "      <td>UnKnown Director</td>\n",
       "      <td>Movie</td>\n",
       "      <td>2021</td>\n",
       "      <td>TV-14</td>\n",
       "      <td>36 min</td>\n",
       "      <td>June 11</td>\n",
       "    </tr>\n",
       "    <tr>\n",
       "      <th>18760</th>\n",
       "      <td>Trese After Dark</td>\n",
       "      <td>Unknown Actor</td>\n",
       "      <td>NaN</td>\n",
       "      <td>Documentaries</td>\n",
       "      <td>UnKnown Director</td>\n",
       "      <td>Movie</td>\n",
       "      <td>2021</td>\n",
       "      <td>TV-14</td>\n",
       "      <td>36 min</td>\n",
       "      <td>June 11</td>\n",
       "    </tr>\n",
       "    <tr>\n",
       "      <th>...</th>\n",
       "      <td>...</td>\n",
       "      <td>...</td>\n",
       "      <td>...</td>\n",
       "      <td>...</td>\n",
       "      <td>...</td>\n",
       "      <td>...</td>\n",
       "      <td>...</td>\n",
       "      <td>...</td>\n",
       "      <td>...</td>\n",
       "      <td>...</td>\n",
       "    </tr>\n",
       "    <tr>\n",
       "      <th>183414</th>\n",
       "      <td>Smash: Motorized Mayhem</td>\n",
       "      <td>Unknown Actor</td>\n",
       "      <td>United States</td>\n",
       "      <td>Documentaries</td>\n",
       "      <td>UnKnown Director</td>\n",
       "      <td>Movie</td>\n",
       "      <td>2017</td>\n",
       "      <td>TV-MA</td>\n",
       "      <td>66 min</td>\n",
       "      <td>May 15</td>\n",
       "    </tr>\n",
       "    <tr>\n",
       "      <th>183415</th>\n",
       "      <td>Smash: Motorized Mayhem</td>\n",
       "      <td>Unknown Actor</td>\n",
       "      <td>United States</td>\n",
       "      <td>Sports Movies</td>\n",
       "      <td>UnKnown Director</td>\n",
       "      <td>Movie</td>\n",
       "      <td>2017</td>\n",
       "      <td>TV-MA</td>\n",
       "      <td>66 min</td>\n",
       "      <td>May 15</td>\n",
       "    </tr>\n",
       "    <tr>\n",
       "      <th>189358</th>\n",
       "      <td>The Darkest Dawn</td>\n",
       "      <td>Unknown Actor</td>\n",
       "      <td>United Kingdom</td>\n",
       "      <td>Action &amp; Adventure</td>\n",
       "      <td>UnKnown Director</td>\n",
       "      <td>Movie</td>\n",
       "      <td>2016</td>\n",
       "      <td>TV-MA</td>\n",
       "      <td>75 min</td>\n",
       "      <td>June 23</td>\n",
       "    </tr>\n",
       "    <tr>\n",
       "      <th>189359</th>\n",
       "      <td>The Darkest Dawn</td>\n",
       "      <td>Unknown Actor</td>\n",
       "      <td>United Kingdom</td>\n",
       "      <td>Independent Movies</td>\n",
       "      <td>UnKnown Director</td>\n",
       "      <td>Movie</td>\n",
       "      <td>2016</td>\n",
       "      <td>TV-MA</td>\n",
       "      <td>75 min</td>\n",
       "      <td>June 23</td>\n",
       "    </tr>\n",
       "    <tr>\n",
       "      <th>189360</th>\n",
       "      <td>The Darkest Dawn</td>\n",
       "      <td>Unknown Actor</td>\n",
       "      <td>United Kingdom</td>\n",
       "      <td>International Movies</td>\n",
       "      <td>UnKnown Director</td>\n",
       "      <td>Movie</td>\n",
       "      <td>2016</td>\n",
       "      <td>TV-MA</td>\n",
       "      <td>75 min</td>\n",
       "      <td>June 23</td>\n",
       "    </tr>\n",
       "  </tbody>\n",
       "</table>\n",
       "<p>116 rows × 10 columns</p>\n",
       "</div>"
      ],
      "text/plain": [
       "                                title         Actors         country  \\\n",
       "10052   9to5: The Story of a Movement  Unknown Actor             NaN   \n",
       "16652                Sisters on Track  Unknown Actor             NaN   \n",
       "16653                Sisters on Track  Unknown Actor             NaN   \n",
       "18759                Trese After Dark  Unknown Actor             NaN   \n",
       "18760                Trese After Dark  Unknown Actor             NaN   \n",
       "...                               ...            ...             ...   \n",
       "183414        Smash: Motorized Mayhem  Unknown Actor   United States   \n",
       "183415        Smash: Motorized Mayhem  Unknown Actor   United States   \n",
       "189358               The Darkest Dawn  Unknown Actor  United Kingdom   \n",
       "189359               The Darkest Dawn  Unknown Actor  United Kingdom   \n",
       "189360               The Darkest Dawn  Unknown Actor  United Kingdom   \n",
       "\n",
       "                       Genre          director   type  release_year rating  \\\n",
       "10052          Documentaries  UnKnown Director  Movie          2021  TV-MA   \n",
       "16652          Documentaries  UnKnown Director  Movie          2021     PG   \n",
       "16653          Sports Movies  UnKnown Director  Movie          2021     PG   \n",
       "18759         Anime Features  UnKnown Director  Movie          2021  TV-14   \n",
       "18760          Documentaries  UnKnown Director  Movie          2021  TV-14   \n",
       "...                      ...               ...    ...           ...    ...   \n",
       "183414         Documentaries  UnKnown Director  Movie          2017  TV-MA   \n",
       "183415         Sports Movies  UnKnown Director  Movie          2017  TV-MA   \n",
       "189358    Action & Adventure  UnKnown Director  Movie          2016  TV-MA   \n",
       "189359    Independent Movies  UnKnown Director  Movie          2016  TV-MA   \n",
       "189360  International Movies  UnKnown Director  Movie          2016  TV-MA   \n",
       "\n",
       "       duration    month  \n",
       "10052    85 min  July 22  \n",
       "16652    97 min  June 24  \n",
       "16653    97 min  June 24  \n",
       "18759    36 min  June 11  \n",
       "18760    36 min  June 11  \n",
       "...         ...      ...  \n",
       "183414   66 min   May 15  \n",
       "183415   66 min   May 15  \n",
       "189358   75 min  June 23  \n",
       "189359   75 min  June 23  \n",
       "189360   75 min  June 23  \n",
       "\n",
       "[116 rows x 10 columns]"
      ]
     },
     "execution_count": 57,
     "metadata": {},
     "output_type": "execute_result"
    }
   ],
   "source": [
    "top_data_actors_directors=df_final_movies.loc[(df_final_movies[\"Actors\"].isin(top_3_actors)) & (df_final_movies[\"director\"].isin(top_3_directors))]\n",
    "top_data_actors_directors"
   ]
  },
  {
   "cell_type": "code",
   "execution_count": 85,
   "id": "f20ea6f3",
   "metadata": {},
   "outputs": [
    {
     "data": {
      "text/plain": [
       "(1995.0, 2020.0)"
      ]
     },
     "execution_count": 85,
     "metadata": {},
     "output_type": "execute_result"
    },
    {
     "data": {
      "text/plain": [
       "<Figure size 1440x1080 with 0 Axes>"
      ]
     },
     "metadata": {},
     "output_type": "display_data"
    },
    {
     "data": {
      "image/png": "[encoded data removed]",
      "text/plain": [
       "<Figure size 180x180 with 2 Axes>"
      ]
     },
     "metadata": {
      "needs_background": "light"
     },
     "output_type": "display_data"
    }
   ],
   "source": [
    "plt.figure(figsize=(20,15))\n",
    "sns.pairplot(data=df_final_movies)\n",
    "plt.xlim(left=1995,right=2020)\n",
    "# plt.ylim(bottom=0,top=1)"
   ]
  },
  {
   "cell_type": "markdown",
   "id": "4a31ce2e",
   "metadata": {},
   "source": [
    "###  Insights based on Non-Graphical and Visual Analysis (10 Points)\n",
    "\n",
    "1 Comments on the range of attributes\n",
    "\n",
    "2 Comments on the distribution of the variables and relationship between them\n",
    "\n",
    "3 Comments for each univariate and bivariate plot"
   ]
  },
  {
   "cell_type": "markdown",
   "id": "636ef876",
   "metadata": {},
   "source": [
    "## 1\n",
    "Comments on the range of attributes"
   ]
  },
  {
   "cell_type": "markdown",
   "id": "720fad7b",
   "metadata": {},
   "source": [
    "1.Based on the given data we observe that there are wide variety of Genres nowdays\n",
    "2.The platform helps the user to display the most watched shows\n"
   ]
  },
  {
   "cell_type": "markdown",
   "id": "e9695ffa",
   "metadata": {},
   "source": [
    "## 2"
   ]
  },
  {
   "cell_type": "markdown",
   "id": "4ba8576f",
   "metadata": {},
   "source": [
    "1. Through the data we have have observe there are relationship betwwen directors , casting and actors.\n",
    "2. As the years are moving forward the Rating depend directly on cast and type of Genre title belogs too"
   ]
  },
  {
   "cell_type": "markdown",
   "id": "53ba7293",
   "metadata": {},
   "source": [
    "## 3"
   ]
  },
  {
   "cell_type": "markdown",
   "id": "0d2a6f8c",
   "metadata": {},
   "source": [
    "For univariate plots\n",
    "1.As the years are moving craze in people for seeing movies and tv-shows are increasing\n",
    "2.For the duration I see that in movies people like to watch movies duration between 90 to 100 minutes time interval and for tv shows people has high craze for shows having 1 or 2 seasons\n",
    "\n",
    "For bivariate plots\n",
    "1.People like to watch high rating movies and shows"
   ]
  },
  {
   "cell_type": "markdown",
   "id": "e3ded4ee",
   "metadata": {},
   "source": [
    "### Business Insights  - Should include patterns observed in the data along with what you can infer from it"
   ]
  },
  {
   "cell_type": "markdown",
   "id": "cbfde976",
   "metadata": {},
   "source": [
    "### For every below plots insight number and result is mentioned"
   ]
  },
  {
   "cell_type": "code",
   "execution_count": 142,
   "id": "af3034d9",
   "metadata": {},
   "outputs": [
    {
     "data": {
      "text/plain": [
       "<AxesSubplot: xlabel='type', ylabel='count'>"
      ]
     },
     "execution_count": 142,
     "metadata": {},
     "output_type": "execute_result"
    },
    {
     "data": {
      "image/png": "[encoded data removed]",
      "text/plain": [
       "<Figure size 432x288 with 1 Axes>"
      ]
     },
     "metadata": {
      "needs_background": "light"
     },
     "output_type": "display_data"
    }
   ],
   "source": [
    "# INSIGHT 1\n",
    "sns.countplot(data=df_final,x=\"type\")\n",
    "\n",
    "# RESULT--SHOWS DEMAND OF MOVIES IS MORE THEN TV SHOWS"
   ]
  },
  {
   "cell_type": "code",
   "execution_count": 89,
   "id": "e9d75e36",
   "metadata": {},
   "outputs": [
    {
     "data": {
      "image/png": "[encoded data removed]",
      "text/plain": [
       "<Figure size 432x288 with 1 Axes>"
      ]
     },
     "metadata": {
      "needs_background": "light"
     },
     "output_type": "display_data"
    },
    {
     "data": {
      "image/png": "[encoded data removed]",
      "text/plain": [
       "<Figure size 432x288 with 1 Axes>"
      ]
     },
     "metadata": {
      "needs_background": "light"
     },
     "output_type": "display_data"
    }
   ],
   "source": [
    "# INSIGHT 2\n",
    "#movies\n",
    "sns.countplot(data=df_final_movies,x=\"Genre\")\n",
    "plt.xticks(rotation=90)\n",
    "plt.show()\n",
    "\n",
    "#seasons\n",
    "sns.countplot(data=df_final_season,x=\"Genre\")\n",
    "plt.xticks(rotation=90)\n",
    "plt.show()\n",
    "\n",
    "## RESULT--\n",
    "## From the below data we can observe people needs more dramas movies and internation tv shows"
   ]
  },
  {
   "cell_type": "code",
   "execution_count": 135,
   "id": "ab3043c7",
   "metadata": {},
   "outputs": [
    {
     "data": {
      "image/png": "[encoded data removed]",
      "text/plain": [
       "<Figure size 432x288 with 1 Axes>"
      ]
     },
     "metadata": {
      "needs_background": "light"
     },
     "output_type": "display_data"
    },
    {
     "data": {
      "image/png": "[encoded data removed]",
      "text/plain": [
       "<Figure size 432x288 with 1 Axes>"
      ]
     },
     "metadata": {
      "needs_background": "light"
     },
     "output_type": "display_data"
    }
   ],
   "source": [
    "# INSIGHT 3\n",
    "#movies\n",
    "top_3_data_Genres=df_final_movies.loc[(df_final_movies[\"Genre\"].isin(top_3_genres))]\n",
    "sns.countplot(data=top_3_data_Genres,x=\"Genre\")\n",
    "plt.xticks(rotation=90)\n",
    "plt.legend([\"movies\"])\n",
    "plt.show()\n",
    "#season\n",
    "top_3_data_Genres1=df_final_season.loc[(df_final_season[\"Genre\"].isin(top_3_genres1))]\n",
    "sns.countplot(data=top_3_data_Genres1,x=\"Genre\")\n",
    "plt.xticks(rotation=90)\n",
    "plt.legend([\"tv-shows\"])\n",
    "plt.show()\n",
    "\n",
    "# RESULT--\n",
    "## FROM THE BELOW GRAPH WE SEE TOP 3 GENRES IN MOVIES ARE DRAMAS, INTERNATIONAL MOVIES, COMEDIES\n",
    "## TOP 3 GENRES IN TV SHOWS ARE INTERNATIONAL TV SHOWS,DRAMAS, TV COMEDIES"
   ]
  },
  {
   "cell_type": "code",
   "execution_count": 111,
   "id": "79793b25",
   "metadata": {},
   "outputs": [
    {
     "data": {
      "image/png": "[encoded data removed]",
      "text/plain": [
       "<Figure size 432x288 with 1 Axes>"
      ]
     },
     "metadata": {
      "needs_background": "light"
     },
     "output_type": "display_data"
    },
    {
     "data": {
      "image/png": "[encoded data removed]",
      "text/plain": [
       "<Figure size 432x288 with 1 Axes>"
      ]
     },
     "metadata": {
      "needs_background": "light"
     },
     "output_type": "display_data"
    }
   ],
   "source": [
    "# INSIGHT 4\n",
    "# movies\n",
    "top_3_data_months=df_final_movies.loc[(df_final_movies[\"month\"].isin(top_3_months))]\n",
    "sns.countplot(data=top_3_data_months,x=\"month\")\n",
    "plt.xticks(rotation=90)\n",
    "plt.legend([\"movies\"])\n",
    "plt.show()\n",
    "#seasons\n",
    "top_3_data_months1=df_final_season.loc[(df_final_season[\"month\"].isin(top_3_months))]\n",
    "sns.countplot(data=top_3_data_months1,x=\"month\")\n",
    "plt.xticks(rotation=90)\n",
    "plt.legend([\"tv-shows\"])\n",
    "plt.show()\n",
    "\n",
    "# RESULT--\n",
    "# FROM THE BELOW WE SEE PEOPLE LIKE MORE MOVIES AND TV-SHOWS TO RELEASE IN MONTH OF JULY, JANUARY, OCTOBER"
   ]
  },
  {
   "cell_type": "code",
   "execution_count": 102,
   "id": "abba34e4",
   "metadata": {},
   "outputs": [
    {
     "data": {
      "image/png": "[encoded data removed]",
      "text/plain": [
       "<Figure size 432x288 with 1 Axes>"
      ]
     },
     "metadata": {
      "needs_background": "light"
     },
     "output_type": "display_data"
    },
    {
     "data": {
      "image/png": "[encoded data removed]",
      "text/plain": [
       "<Figure size 432x288 with 1 Axes>"
      ]
     },
     "metadata": {
      "needs_background": "light"
     },
     "output_type": "display_data"
    }
   ],
   "source": [
    "# INSIGHT 5\n",
    "\n",
    "#movies\n",
    "top_3_data_Genres_countries=df_final_movies.loc[(df_final_movies[\"Genre\"].isin(top_3_genres)) & (df_final_movies[\"country\"].isin(top_3_countries))]\n",
    "sns.countplot(data=top_3_data_Genres_countries,x=\"country\",hue=\"Genre\")\n",
    "plt.xticks(rotation=90)\n",
    "# plt.legend([\"movies\"])\n",
    "plt.show()\n",
    "#seasons\n",
    "top_3_data_Genres_countries=df_final_season.loc[(df_final_season[\"Genre\"].isin(top_3_genres1)) & (df_final_season[\"country\"].isin(top_3_countries1))]\n",
    "sns.countplot(data=top_3_data_Genres_countries,x=\"country\",hue=\"Genre\")\n",
    "plt.xticks(rotation=90)\n",
    "plt.show()\n",
    "\n",
    "\n",
    "# RESULT--\n",
    "# FROM BELOW WE SEE TOP 3 GENRES IN TOP 3 COUNTRIES I.E IN US PEOPLE LIKE TO WATCH COMEDIES,UK--DRAMAS,INDIA--INTERNATIONAL MOVIES\n",
    "## FOR TV SHOWS US--TV DRAMAS, UK--INTERNATIONAL TV SHOWS, JAPAN--INTERNATIONAL TV SHOWS\n",
    "## NOTE IN BOTH MOVIES AND TV SHOWS UNITED STATES AND UNITED KINGDOM ARE TOP CONSISTENT PALYERS"
   ]
  },
  {
   "cell_type": "code",
   "execution_count": 110,
   "id": "662377a6",
   "metadata": {},
   "outputs": [
    {
     "data": {
      "text/plain": [
       "Text(0.5, 1.0, 'release_year v/s rating')"
      ]
     },
     "execution_count": 110,
     "metadata": {},
     "output_type": "execute_result"
    },
    {
     "data": {
      "image/png": "[encoded data removed]",
      "text/plain": [
       "<Figure size 432x288 with 1 Axes>"
      ]
     },
     "metadata": {
      "needs_background": "light"
     },
     "output_type": "display_data"
    }
   ],
   "source": [
    "# INSIGHT 6\n",
    "\n",
    "#movies and seasons\n",
    "sns.lineplot(data=df_final_movies,\n",
    "            x=\"release_year\",\n",
    "            y=\"rating\",color=\"red\")\n",
    "plt.xlim(left=1995,right=2020)\n",
    "sns.lineplot(data=df_final_season,\n",
    "            x=\"release_year\",\n",
    "            y=\"rating\",color=\"blue\")\n",
    "plt.xlim(left=1995,right=2020)\n",
    "plt.legend([\"movies\",\"tv-shows\"])\n",
    "plt.title(\"release_year v/s rating\")\n",
    "\n",
    "# RESULT--\n",
    "# IN CASE OF MOVIES RATINGS OVER LAST 25 YEARS REAMINS AT SAME LEVEL ALMOST\n",
    "# IN CASE OF TV SHOWS RATING LEVEL INCREASE DRASTICALLY AND IT IS GOOD TO SEE PEOPLE LIKE TV SHOWS MORE"
   ]
  },
  {
   "cell_type": "markdown",
   "id": "098cdfc2",
   "metadata": {},
   "source": [
    "### Recommendations - Actionable items for business. No technical jargon. No complications. Simple action items that everyone can understand"
   ]
  },
  {
   "cell_type": "markdown",
   "id": "c6a0cb4b",
   "metadata": {},
   "source": [
    "1.Netfix should focus on more movies content then Tv-shows\n",
    "\n",
    "2.Netflix should also focus on rating of movies as for lst 25 years rating have no growth, so it is important to change movies \n",
    "content to increase level so that rating in coming years increase as same as ratings of tv-shows\n",
    "\n",
    "3.Netflix should more focus for content from countries like united states, UK, japan, India\n",
    "\n",
    "4.Netflix for better revenue should ask directors to release shows more in months of january,july,october\n",
    "\n",
    "5.Netflix should more focus on Comedy Genre type movies and international tv shows for TV-SHOWS\n",
    "\n",
    "6.Netflix should upload more movies of actors like Alfred Molina,Liam Neeson, John Krasinski and for TV-SHOWS it should be of actors like Yuki Kaji,Takahiro Sakurai,David Attenborogh\n",
    "\n",
    "7.Netflix should upload more movies of directors like Youssef Chahine,Martin Scorsese,cathy garcia and for tv shows it should be Houda Benyamina,Thomas Astruc, Noam Murro\n",
    "\n",
    "8.Netflix should more focus on duaration of movies between 90-110 minutes and for tv-shows it should be 1-2 seasons for better growth\n",
    "\n",
    "9. Netflix can also see other similar platforms growth that in which region they are more focusing"
   ]
  },
  {
   "cell_type": "code",
   "execution_count": null,
   "id": "2a6b8eae",
   "metadata": {},
   "outputs": [],
   "source": []
  },
  {
   "cell_type": "code",
   "execution_count": null,
   "id": "3f63462e",
   "metadata": {},
   "outputs": [],
   "source": []
  },
  {
   "cell_type": "code",
   "execution_count": null,
   "id": "729947b2",
   "metadata": {},
   "outputs": [],
   "source": []
  },
  {
   "cell_type": "code",
   "execution_count": null,
   "id": "b1d0641d",
   "metadata": {},
   "outputs": [],
   "source": []
  },
  {
   "cell_type": "code",
   "execution_count": null,
   "id": "bacff164",
   "metadata": {},
   "outputs": [],
   "source": []
  }
 ],
 "metadata": {
  "kernelspec": {
   "display_name": "Python 3 (ipykernel)",
   "language": "python",
   "name": "python3"
  },
  "language_info": {
   "codemirror_mode": {
    "name": "ipython",
    "version": 3
   },
   "file_extension": ".py",
   "mimetype": "text/x-python",
   "name": "python",
   "nbconvert_exporter": "python",
   "pygments_lexer": "ipython3",
   "version": "3.10.0"
  }
 },
 "nbformat": 4,
 "nbformat_minor": 5
}
